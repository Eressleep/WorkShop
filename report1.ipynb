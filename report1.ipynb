{
 "cells": [
  {
   "cell_type": "code",
   "execution_count": 2,
   "metadata": {
    "colab": {},
    "colab_type": "code",
    "id": "XI_NxyDq_h0Y"
   },
   "outputs": [],
   "source": [
    "import numpy as np\n",
    "import pandas as pd\n",
    "import matplotlib.pyplot as plt\n",
    "import datetime\n",
    "import time\n",
    "import os\n",
    "import json\n",
    "from pandas.io.json import json_normalize\n"
   ]
  },
  {
   "cell_type": "code",
   "execution_count": 3,
   "metadata": {
    "colab": {
     "base_uri": "https://localhost:8080/",
     "height": 776
    },
    "colab_type": "code",
    "id": "Vx1Igo16QhX-",
    "outputId": "96cb6594-f628-41cc-cd8e-0b87ea43d9a5"
   },
   "outputs": [
    {
     "name": "stdout",
     "output_type": "stream",
     "text": [
      "Requirement already satisfied: tsfresh in c:\\users\\svetlana\\anaconda33\\lib\\site-packages (0.16.0)\n",
      "Requirement already satisfied: dask[dataframe]>=0.15.2 in c:\\users\\svetlana\\anaconda33\\lib\\site-packages (from tsfresh) (2.11.0)\n",
      "Requirement already satisfied: scipy>=1.2.0 in c:\\users\\svetlana\\anaconda33\\lib\\site-packages (from tsfresh) (1.4.1)\n",
      "Requirement already satisfied: requests>=2.9.1 in c:\\users\\svetlana\\anaconda33\\lib\\site-packages (from tsfresh) (2.22.0)\n",
      "Requirement already satisfied: numpy>=1.15.1 in c:\\users\\svetlana\\anaconda33\\lib\\site-packages (from tsfresh) (1.18.1)\n",
      "Requirement already satisfied: tqdm>=4.10.0 in c:\\users\\svetlana\\anaconda33\\lib\\site-packages (from tsfresh) (4.42.1)\n",
      "Requirement already satisfied: distributed>=1.18.3 in c:\\users\\svetlana\\anaconda33\\lib\\site-packages (from tsfresh) (2.11.0)\n",
      "Requirement already satisfied: patsy>=0.4.1 in c:\\users\\svetlana\\anaconda33\\lib\\site-packages (from tsfresh) (0.5.1)\n",
      "Requirement already satisfied: pandas!=0.24.*,>=0.20.3 in c:\\users\\svetlana\\anaconda33\\lib\\site-packages (from tsfresh) (1.0.1)\n",
      "Requirement already satisfied: statsmodels>=0.8.0 in c:\\users\\svetlana\\anaconda33\\lib\\site-packages (from tsfresh) (0.11.0)\n",
      "Requirement already satisfied: scikit-learn>=0.19.0 in c:\\users\\svetlana\\anaconda33\\lib\\site-packages (from tsfresh) (0.22.1)\n",
      "Requirement already satisfied: fsspec>=0.6.0; extra == \"dataframe\" in c:\\users\\svetlana\\anaconda33\\lib\\site-packages (from dask[dataframe]>=0.15.2->tsfresh) (0.6.2)\n",
      "Requirement already satisfied: partd>=0.3.10; extra == \"dataframe\" in c:\\users\\svetlana\\anaconda33\\lib\\site-packages (from dask[dataframe]>=0.15.2->tsfresh) (1.1.0)\n",
      "Requirement already satisfied: toolz>=0.7.3; extra == \"dataframe\" in c:\\users\\svetlana\\anaconda33\\lib\\site-packages (from dask[dataframe]>=0.15.2->tsfresh) (0.10.0)\n",
      "Requirement already satisfied: idna<2.9,>=2.5 in c:\\users\\svetlana\\anaconda33\\lib\\site-packages (from requests>=2.9.1->tsfresh) (2.8)\n",
      "Requirement already satisfied: certifi>=2017.4.17 in c:\\users\\svetlana\\anaconda33\\lib\\site-packages (from requests>=2.9.1->tsfresh) (2019.11.28)\n",
      "Requirement already satisfied: urllib3!=1.25.0,!=1.25.1,<1.26,>=1.21.1 in c:\\users\\svetlana\\anaconda33\\lib\\site-packages (from requests>=2.9.1->tsfresh) (1.25.8)\n",
      "Requirement already satisfied: chardet<3.1.0,>=3.0.2 in c:\\users\\svetlana\\anaconda33\\lib\\site-packages (from requests>=2.9.1->tsfresh) (3.0.4)\n",
      "Requirement already satisfied: msgpack>=0.6.0 in c:\\users\\svetlana\\anaconda33\\lib\\site-packages (from distributed>=1.18.3->tsfresh) (0.6.1)\n",
      "Requirement already satisfied: psutil>=5.0 in c:\\users\\svetlana\\anaconda33\\lib\\site-packages (from distributed>=1.18.3->tsfresh) (5.6.7)\n",
      "Requirement already satisfied: pyyaml in c:\\users\\svetlana\\anaconda33\\lib\\site-packages (from distributed>=1.18.3->tsfresh) (5.3)\n",
      "Requirement already satisfied: setuptools in c:\\users\\svetlana\\anaconda33\\lib\\site-packages (from distributed>=1.18.3->tsfresh) (45.2.0.post20200210)\n",
      "Requirement already satisfied: zict>=0.1.3 in c:\\users\\svetlana\\anaconda33\\lib\\site-packages (from distributed>=1.18.3->tsfresh) (1.0.0)\n",
      "Requirement already satisfied: click>=6.6 in c:\\users\\svetlana\\anaconda33\\lib\\site-packages (from distributed>=1.18.3->tsfresh) (7.0)\n",
      "Requirement already satisfied: tblib>=1.6.0 in c:\\users\\svetlana\\anaconda33\\lib\\site-packages (from distributed>=1.18.3->tsfresh) (1.6.0)\n",
      "Requirement already satisfied: sortedcontainers!=2.0.0,!=2.0.1 in c:\\users\\svetlana\\anaconda33\\lib\\site-packages (from distributed>=1.18.3->tsfresh) (2.1.0)\n",
      "Requirement already satisfied: cloudpickle>=0.2.2 in c:\\users\\svetlana\\anaconda33\\lib\\site-packages (from distributed>=1.18.3->tsfresh) (1.3.0)\n",
      "Requirement already satisfied: tornado>=5; python_version < \"3.8\" in c:\\users\\svetlana\\anaconda33\\lib\\site-packages (from distributed>=1.18.3->tsfresh) (6.0.3)\n",
      "Requirement already satisfied: six in c:\\users\\svetlana\\anaconda33\\lib\\site-packages (from patsy>=0.4.1->tsfresh) (1.14.0)\n",
      "Requirement already satisfied: python-dateutil>=2.6.1 in c:\\users\\svetlana\\anaconda33\\lib\\site-packages (from pandas!=0.24.*,>=0.20.3->tsfresh) (2.8.1)\n",
      "Requirement already satisfied: pytz>=2017.2 in c:\\users\\svetlana\\anaconda33\\lib\\site-packages (from pandas!=0.24.*,>=0.20.3->tsfresh) (2019.3)\n",
      "Requirement already satisfied: joblib>=0.11 in c:\\users\\svetlana\\anaconda33\\lib\\site-packages (from scikit-learn>=0.19.0->tsfresh) (0.14.1)\n",
      "Requirement already satisfied: locket in c:\\users\\svetlana\\anaconda33\\lib\\site-packages (from partd>=0.3.10; extra == \"dataframe\"->dask[dataframe]>=0.15.2->tsfresh) (0.2.0)\n",
      "Requirement already satisfied: heapdict in c:\\users\\svetlana\\anaconda33\\lib\\site-packages (from zict>=0.1.3->distributed>=1.18.3->tsfresh) (1.0.1)\n",
      "Note: you may need to restart the kernel to use updated packages.\n"
     ]
    }
   ],
   "source": [
    "pip install tsfresh"
   ]
  },
  {
   "cell_type": "code",
   "execution_count": 4,
   "metadata": {
    "colab": {},
    "colab_type": "code",
    "id": "_w3hVsOgRqNR"
   },
   "outputs": [],
   "source": [
    "import tsfresh"
   ]
  },
  {
   "cell_type": "code",
   "execution_count": 5,
   "metadata": {
    "colab": {},
    "colab_type": "code",
    "id": "V82c0BveRwU6"
   },
   "outputs": [],
   "source": [
    "from tsfresh.examples.har_dataset import download_har_dataset, load_har_dataset, load_har_classes\n",
    "from tsfresh import extract_features, extract_relevant_features, select_features\n",
    "from  tsfresh.feature_extraction  import  extract_features "
   ]
  },
  {
   "cell_type": "code",
   "execution_count": 6,
   "metadata": {
    "colab": {},
    "colab_type": "code",
    "id": "ku1sPCxDA3cR"
   },
   "outputs": [],
   "source": [
    "data_folder = 'C:/Users/Svetlana/Documents/flink_metric_data_new/'\n",
    "folder = []\n",
    "for i in os.walk('C:/Users/Svetlana/Documents/flink_metric_data_new'):\n",
    "    folder.append(i)\n",
    "    "
   ]
  },
  {
   "cell_type": "code",
   "execution_count": 7,
   "metadata": {
    "colab": {},
    "colab_type": "code",
    "id": "pi96SimXI2y6"
   },
   "outputs": [],
   "source": [
    "common_df = pd.DataFrame(columns = ['name', 'max', 'min', 'range', 'coef_var', 'num_peaks1', 'num_peaks2', 'len'])"
   ]
  },
  {
   "cell_type": "code",
   "execution_count": 8,
   "metadata": {
    "colab": {
     "base_uri": "https://localhost:8080/",
     "height": 47
    },
    "colab_type": "code",
    "id": "4JokOFSnNHho",
    "outputId": "278f16d7-383e-44b1-f8a4-fd2ec7c004b2"
   },
   "outputs": [
    {
     "data": {
      "text/html": [
       "<div>\n",
       "<style scoped>\n",
       "    .dataframe tbody tr th:only-of-type {\n",
       "        vertical-align: middle;\n",
       "    }\n",
       "\n",
       "    .dataframe tbody tr th {\n",
       "        vertical-align: top;\n",
       "    }\n",
       "\n",
       "    .dataframe thead th {\n",
       "        text-align: right;\n",
       "    }\n",
       "</style>\n",
       "<table border=\"1\" class=\"dataframe\">\n",
       "  <thead>\n",
       "    <tr style=\"text-align: right;\">\n",
       "      <th></th>\n",
       "      <th>name</th>\n",
       "      <th>max</th>\n",
       "      <th>min</th>\n",
       "      <th>range</th>\n",
       "      <th>coef_var</th>\n",
       "      <th>num_peaks1</th>\n",
       "      <th>num_peaks2</th>\n",
       "      <th>len</th>\n",
       "    </tr>\n",
       "  </thead>\n",
       "  <tbody>\n",
       "  </tbody>\n",
       "</table>\n",
       "</div>"
      ],
      "text/plain": [
       "Empty DataFrame\n",
       "Columns: [name, max, min, range, coef_var, num_peaks1, num_peaks2, len]\n",
       "Index: []"
      ]
     },
     "execution_count": 8,
     "metadata": {},
     "output_type": "execute_result"
    }
   ],
   "source": [
    "common_df.head()"
   ]
  },
  {
   "cell_type": "code",
   "execution_count": 9,
   "metadata": {
    "colab": {},
    "colab_type": "code",
    "id": "UoGfVk5JnmLS"
   },
   "outputs": [],
   "source": [
    "row_list=[]\n"
   ]
  },
  {
   "cell_type": "code",
   "execution_count": 10,
   "metadata": {
    "colab": {
     "base_uri": "https://localhost:8080/",
     "height": 34
    },
    "colab_type": "code",
    "id": "Ut4Wf6db0P50",
    "outputId": "d75108e6-181c-4175-ac8e-30ce9d918d0e"
   },
   "outputs": [
    {
     "name": "stdout",
     "output_type": "stream",
     "text": [
      "[]\n"
     ]
    }
   ],
   "source": [
    "print(row_list)"
   ]
  },
  {
   "cell_type": "code",
   "execution_count": 11,
   "metadata": {
    "colab": {},
    "colab_type": "code",
    "id": "U65BNL_Pqx1y"
   },
   "outputs": [],
   "source": [
    "dict1={}"
   ]
  },
  {
   "cell_type": "code",
   "execution_count": 12,
   "metadata": {
    "colab": {},
    "colab_type": "code",
    "id": "cI5sPvzXTLCY"
   },
   "outputs": [],
   "source": [
    "data_folder = 'C:/Users/Svetlana/Documents/flink_metric_data_new/'\n",
    "with open(f\"{data_folder}10h4id8fd1ii4477diifdd5d3iig9596_15360_129942_read_records_per_second.json\") as f:\n",
    "    data = json.load(f)\n",
    "    df = pd.DataFrame(data['datapoints'])\n",
    "    df.drop('unit',axis=1,inplace=True)"
   ]
  },
  {
   "cell_type": "code",
   "execution_count": 13,
   "metadata": {
    "colab": {
     "base_uri": "https://localhost:8080/",
     "height": 34
    },
    "colab_type": "code",
    "id": "c1PLW_I8UEMq",
    "outputId": "8d731adc-79d8-4061-bf20-a58abb4f7568"
   },
   "outputs": [
    {
     "data": {
      "text/plain": [
       "24"
      ]
     },
     "execution_count": 13,
     "metadata": {},
     "output_type": "execute_result"
    }
   ],
   "source": [
    "tsfresh.feature_extraction.feature_calculators.number_peaks(df.average, 40)"
   ]
  },
  {
   "cell_type": "code",
   "execution_count": 209,
   "metadata": {
    "colab": {
     "base_uri": "https://localhost:8080/",
     "height": 34
    },
    "colab_type": "code",
    "id": "qSTKiLroq9eV",
    "outputId": "e998d0f4-d69e-4869-9d0c-cc59f0073dfe"
   },
   "outputs": [
    {
     "name": "stdout",
     "output_type": "stream",
     "text": [
      "{'name': 'i8e28d444g2144i0d94384efd5802gfd_17009_206351_read_records_per_second.json', 'max': 0, 'min': 0, 'range': 0, 'coef_var': -1, 'len': 1999, 'single_pick': 0}\n"
     ]
    }
   ],
   "source": [
    "print(dict1)"
   ]
  },
  {
   "cell_type": "code",
   "execution_count": 15,
   "metadata": {
    "colab": {},
    "colab_type": "code",
    "id": "KZpAdq8MCZ8l"
   },
   "outputs": [],
   "source": [
    "for address, dirs, files in folder:\n",
    "    for file in files:\n",
    "        with open(address+'/'+file) as f:\n",
    "            data = json.load(f)\n",
    "            df = pd.DataFrame(data['datapoints'])\n",
    "            df.drop('unit',axis=1,inplace=True)\n",
    "            df = df.set_index(['timestamp'])\n",
    "            df.index = pd.to_datetime(df.index, unit='ms')\n",
    "            df_mean=pd.DataFrame()\n",
    "            df_mean['average'] = df.average.resample('30T').sum()\n",
    "            dict1 ={}\n",
    "            coef_variation = -1\n",
    "            if (df_mean['average'].mean()!=0):\n",
    "                coef_variation=df_mean['average'].std()/df_mean['average'].mean()\n",
    "            dict1.update({'name':file,'max': df_mean['average'].max(), \n",
    "                    'min': df_mean['average'].min(),\n",
    "                    'range':df_mean['average'].max()-df_mean['average'].min(),\n",
    "                    'coef_var': coef_variation,\n",
    "                    #'num_peaks1': tsfresh.feature_extraction.feature_calculators.number_peaks(df_mean.average, 5),\n",
    "                         'len': len(df),\n",
    "                         'single_pick': tsfresh.feature_extraction.feature_calculators.number_peaks(df.average,1000)})\n",
    "            row_list.append(dict1)\n",
    "common_df = pd.DataFrame(row_list) \n",
    "\n",
    "\n",
    "      "
   ]
  },
  {
   "cell_type": "code",
   "execution_count": 208,
   "metadata": {
    "colab": {
     "base_uri": "https://localhost:8080/",
     "height": 639
    },
    "colab_type": "code",
    "id": "QpK_ZcBvnxdo",
    "outputId": "abddddd1-3da9-4131-8e0f-b58ac3efd0d3"
   },
   "outputs": [
    {
     "data": {
      "text/html": [
       "<div>\n",
       "<style scoped>\n",
       "    .dataframe tbody tr th:only-of-type {\n",
       "        vertical-align: middle;\n",
       "    }\n",
       "\n",
       "    .dataframe tbody tr th {\n",
       "        vertical-align: top;\n",
       "    }\n",
       "\n",
       "    .dataframe thead th {\n",
       "        text-align: right;\n",
       "    }\n",
       "</style>\n",
       "<table border=\"1\" class=\"dataframe\">\n",
       "  <thead>\n",
       "    <tr style=\"text-align: right;\">\n",
       "      <th></th>\n",
       "      <th>name</th>\n",
       "      <th>max</th>\n",
       "      <th>min</th>\n",
       "      <th>range</th>\n",
       "      <th>coef_var</th>\n",
       "      <th>len</th>\n",
       "      <th>single_pick</th>\n",
       "    </tr>\n",
       "  </thead>\n",
       "  <tbody>\n",
       "    <tr>\n",
       "      <th>0</th>\n",
       "      <td>055gid303e800ie30i16f01hf47fe6f0_8708_202317_r...</td>\n",
       "      <td>0.00</td>\n",
       "      <td>0.00</td>\n",
       "      <td>0.00</td>\n",
       "      <td>-1.000000</td>\n",
       "      <td>2017</td>\n",
       "      <td>0</td>\n",
       "    </tr>\n",
       "    <tr>\n",
       "      <th>1</th>\n",
       "      <td>055gid303e800ie30i16f01hf47fe6f0_8708_202317_w...</td>\n",
       "      <td>0.00</td>\n",
       "      <td>0.00</td>\n",
       "      <td>0.00</td>\n",
       "      <td>-1.000000</td>\n",
       "      <td>2017</td>\n",
       "      <td>0</td>\n",
       "    </tr>\n",
       "    <tr>\n",
       "      <th>2</th>\n",
       "      <td>10h4id8fd1ii4477diifdd5d3iig9596_15360_129942_...</td>\n",
       "      <td>54629.51</td>\n",
       "      <td>4288.55</td>\n",
       "      <td>50340.96</td>\n",
       "      <td>0.380349</td>\n",
       "      <td>2017</td>\n",
       "      <td>0</td>\n",
       "    </tr>\n",
       "    <tr>\n",
       "      <th>3</th>\n",
       "      <td>10h4id8fd1ii4477diifdd5d3iig9596_15360_129942_...</td>\n",
       "      <td>54655.37</td>\n",
       "      <td>4290.59</td>\n",
       "      <td>50364.78</td>\n",
       "      <td>0.380330</td>\n",
       "      <td>2017</td>\n",
       "      <td>0</td>\n",
       "    </tr>\n",
       "    <tr>\n",
       "      <th>4</th>\n",
       "      <td>10h4id8fd1ii4477diifdd5d3iig9596_15360_130545_...</td>\n",
       "      <td>24342.99</td>\n",
       "      <td>3429.66</td>\n",
       "      <td>20913.33</td>\n",
       "      <td>0.066767</td>\n",
       "      <td>2017</td>\n",
       "      <td>0</td>\n",
       "    </tr>\n",
       "    <tr>\n",
       "      <th>5</th>\n",
       "      <td>10h4id8fd1ii4477diifdd5d3iig9596_15360_130545_...</td>\n",
       "      <td>24341.42</td>\n",
       "      <td>3429.52</td>\n",
       "      <td>20911.90</td>\n",
       "      <td>0.066759</td>\n",
       "      <td>2017</td>\n",
       "      <td>0</td>\n",
       "    </tr>\n",
       "    <tr>\n",
       "      <th>6</th>\n",
       "      <td>10h4id8fd1ii4477diifdd5d3iig9596_15360_149764_...</td>\n",
       "      <td>806.71</td>\n",
       "      <td>127.28</td>\n",
       "      <td>679.43</td>\n",
       "      <td>0.182366</td>\n",
       "      <td>2017</td>\n",
       "      <td>0</td>\n",
       "    </tr>\n",
       "    <tr>\n",
       "      <th>7</th>\n",
       "      <td>10h4id8fd1ii4477diifdd5d3iig9596_15360_149764_...</td>\n",
       "      <td>806.70</td>\n",
       "      <td>127.34</td>\n",
       "      <td>679.36</td>\n",
       "      <td>0.182387</td>\n",
       "      <td>2017</td>\n",
       "      <td>0</td>\n",
       "    </tr>\n",
       "    <tr>\n",
       "      <th>8</th>\n",
       "      <td>10h4id8fd1ii4477diifdd5d3iig9596_15360_149765_...</td>\n",
       "      <td>115.44</td>\n",
       "      <td>18.48</td>\n",
       "      <td>96.96</td>\n",
       "      <td>0.176857</td>\n",
       "      <td>2017</td>\n",
       "      <td>0</td>\n",
       "    </tr>\n",
       "    <tr>\n",
       "      <th>9</th>\n",
       "      <td>10h4id8fd1ii4477diifdd5d3iig9596_15360_149765_...</td>\n",
       "      <td>115.44</td>\n",
       "      <td>18.48</td>\n",
       "      <td>96.96</td>\n",
       "      <td>0.176841</td>\n",
       "      <td>2017</td>\n",
       "      <td>0</td>\n",
       "    </tr>\n",
       "    <tr>\n",
       "      <th>10</th>\n",
       "      <td>10h4id8fd1ii4477diifdd5d3iig9596_15360_149776_...</td>\n",
       "      <td>0.00</td>\n",
       "      <td>0.00</td>\n",
       "      <td>0.00</td>\n",
       "      <td>-1.000000</td>\n",
       "      <td>2017</td>\n",
       "      <td>0</td>\n",
       "    </tr>\n",
       "    <tr>\n",
       "      <th>11</th>\n",
       "      <td>10h4id8fd1ii4477diifdd5d3iig9596_15360_149776_...</td>\n",
       "      <td>0.00</td>\n",
       "      <td>0.00</td>\n",
       "      <td>0.00</td>\n",
       "      <td>-1.000000</td>\n",
       "      <td>2017</td>\n",
       "      <td>0</td>\n",
       "    </tr>\n",
       "    <tr>\n",
       "      <th>12</th>\n",
       "      <td>10h4id8fd1ii4477diifdd5d3iig9596_15360_149777_...</td>\n",
       "      <td>0.00</td>\n",
       "      <td>0.00</td>\n",
       "      <td>0.00</td>\n",
       "      <td>-1.000000</td>\n",
       "      <td>2017</td>\n",
       "      <td>0</td>\n",
       "    </tr>\n",
       "    <tr>\n",
       "      <th>13</th>\n",
       "      <td>10h4id8fd1ii4477diifdd5d3iig9596_15360_149777_...</td>\n",
       "      <td>0.00</td>\n",
       "      <td>0.00</td>\n",
       "      <td>0.00</td>\n",
       "      <td>-1.000000</td>\n",
       "      <td>2017</td>\n",
       "      <td>0</td>\n",
       "    </tr>\n",
       "    <tr>\n",
       "      <th>14</th>\n",
       "      <td>10h4id8fd1ii4477diifdd5d3iig9596_15360_152316_...</td>\n",
       "      <td>0.00</td>\n",
       "      <td>0.00</td>\n",
       "      <td>0.00</td>\n",
       "      <td>-1.000000</td>\n",
       "      <td>2017</td>\n",
       "      <td>0</td>\n",
       "    </tr>\n",
       "    <tr>\n",
       "      <th>15</th>\n",
       "      <td>10h4id8fd1ii4477diifdd5d3iig9596_15360_152316_...</td>\n",
       "      <td>0.00</td>\n",
       "      <td>0.00</td>\n",
       "      <td>0.00</td>\n",
       "      <td>-1.000000</td>\n",
       "      <td>2017</td>\n",
       "      <td>0</td>\n",
       "    </tr>\n",
       "    <tr>\n",
       "      <th>16</th>\n",
       "      <td>10h4id8fd1ii4477diifdd5d3iig9596_15360_152317_...</td>\n",
       "      <td>0.00</td>\n",
       "      <td>0.00</td>\n",
       "      <td>0.00</td>\n",
       "      <td>-1.000000</td>\n",
       "      <td>2017</td>\n",
       "      <td>0</td>\n",
       "    </tr>\n",
       "    <tr>\n",
       "      <th>17</th>\n",
       "      <td>10h4id8fd1ii4477diifdd5d3iig9596_15360_152317_...</td>\n",
       "      <td>0.00</td>\n",
       "      <td>0.00</td>\n",
       "      <td>0.00</td>\n",
       "      <td>-1.000000</td>\n",
       "      <td>2017</td>\n",
       "      <td>0</td>\n",
       "    </tr>\n",
       "    <tr>\n",
       "      <th>18</th>\n",
       "      <td>10h4id8fd1ii4477diifdd5d3iig9596_15360_154067_...</td>\n",
       "      <td>5416.34</td>\n",
       "      <td>561.72</td>\n",
       "      <td>4854.62</td>\n",
       "      <td>0.070158</td>\n",
       "      <td>2017</td>\n",
       "      <td>0</td>\n",
       "    </tr>\n",
       "    <tr>\n",
       "      <th>19</th>\n",
       "      <td>10h4id8fd1ii4477diifdd5d3iig9596_15360_154067_...</td>\n",
       "      <td>5422.19</td>\n",
       "      <td>561.66</td>\n",
       "      <td>4860.53</td>\n",
       "      <td>0.070138</td>\n",
       "      <td>2017</td>\n",
       "      <td>0</td>\n",
       "    </tr>\n",
       "  </tbody>\n",
       "</table>\n",
       "</div>"
      ],
      "text/plain": [
       "                                                 name       max      min  \\\n",
       "0   055gid303e800ie30i16f01hf47fe6f0_8708_202317_r...      0.00     0.00   \n",
       "1   055gid303e800ie30i16f01hf47fe6f0_8708_202317_w...      0.00     0.00   \n",
       "2   10h4id8fd1ii4477diifdd5d3iig9596_15360_129942_...  54629.51  4288.55   \n",
       "3   10h4id8fd1ii4477diifdd5d3iig9596_15360_129942_...  54655.37  4290.59   \n",
       "4   10h4id8fd1ii4477diifdd5d3iig9596_15360_130545_...  24342.99  3429.66   \n",
       "5   10h4id8fd1ii4477diifdd5d3iig9596_15360_130545_...  24341.42  3429.52   \n",
       "6   10h4id8fd1ii4477diifdd5d3iig9596_15360_149764_...    806.71   127.28   \n",
       "7   10h4id8fd1ii4477diifdd5d3iig9596_15360_149764_...    806.70   127.34   \n",
       "8   10h4id8fd1ii4477diifdd5d3iig9596_15360_149765_...    115.44    18.48   \n",
       "9   10h4id8fd1ii4477diifdd5d3iig9596_15360_149765_...    115.44    18.48   \n",
       "10  10h4id8fd1ii4477diifdd5d3iig9596_15360_149776_...      0.00     0.00   \n",
       "11  10h4id8fd1ii4477diifdd5d3iig9596_15360_149776_...      0.00     0.00   \n",
       "12  10h4id8fd1ii4477diifdd5d3iig9596_15360_149777_...      0.00     0.00   \n",
       "13  10h4id8fd1ii4477diifdd5d3iig9596_15360_149777_...      0.00     0.00   \n",
       "14  10h4id8fd1ii4477diifdd5d3iig9596_15360_152316_...      0.00     0.00   \n",
       "15  10h4id8fd1ii4477diifdd5d3iig9596_15360_152316_...      0.00     0.00   \n",
       "16  10h4id8fd1ii4477diifdd5d3iig9596_15360_152317_...      0.00     0.00   \n",
       "17  10h4id8fd1ii4477diifdd5d3iig9596_15360_152317_...      0.00     0.00   \n",
       "18  10h4id8fd1ii4477diifdd5d3iig9596_15360_154067_...   5416.34   561.72   \n",
       "19  10h4id8fd1ii4477diifdd5d3iig9596_15360_154067_...   5422.19   561.66   \n",
       "\n",
       "       range  coef_var   len  single_pick  \n",
       "0       0.00 -1.000000  2017            0  \n",
       "1       0.00 -1.000000  2017            0  \n",
       "2   50340.96  0.380349  2017            0  \n",
       "3   50364.78  0.380330  2017            0  \n",
       "4   20913.33  0.066767  2017            0  \n",
       "5   20911.90  0.066759  2017            0  \n",
       "6     679.43  0.182366  2017            0  \n",
       "7     679.36  0.182387  2017            0  \n",
       "8      96.96  0.176857  2017            0  \n",
       "9      96.96  0.176841  2017            0  \n",
       "10      0.00 -1.000000  2017            0  \n",
       "11      0.00 -1.000000  2017            0  \n",
       "12      0.00 -1.000000  2017            0  \n",
       "13      0.00 -1.000000  2017            0  \n",
       "14      0.00 -1.000000  2017            0  \n",
       "15      0.00 -1.000000  2017            0  \n",
       "16      0.00 -1.000000  2017            0  \n",
       "17      0.00 -1.000000  2017            0  \n",
       "18   4854.62  0.070158  2017            0  \n",
       "19   4860.53  0.070138  2017            0  "
      ]
     },
     "execution_count": 208,
     "metadata": {},
     "output_type": "execute_result"
    }
   ],
   "source": [
    "common_df.head(20)"
   ]
  },
  {
   "cell_type": "code",
   "execution_count": 206,
   "metadata": {},
   "outputs": [
    {
     "data": {
      "text/plain": [
       "0    785\n",
       "1      5\n",
       "Name: single_pick, dtype: int64"
      ]
     },
     "execution_count": 206,
     "metadata": {},
     "output_type": "execute_result"
    }
   ],
   "source": [
    "common_df.single_pick.value_counts()"
   ]
  },
  {
   "cell_type": "code",
   "execution_count": 207,
   "metadata": {},
   "outputs": [
    {
     "data": {
      "text/plain": [
       "2017    733\n",
       "1236     18\n",
       "642      12\n",
       "2016      8\n",
       "2011      8\n",
       "2012      3\n",
       "1908      2\n",
       "1819      2\n",
       "312       2\n",
       "2010      1\n",
       "1999      1\n",
       "Name: len, dtype: int64"
      ]
     },
     "execution_count": 207,
     "metadata": {},
     "output_type": "execute_result"
    }
   ],
   "source": [
    "common_df.len.value_counts()"
   ]
  },
  {
   "cell_type": "code",
   "execution_count": null,
   "metadata": {
    "collapsed": true
   },
   "outputs": [],
   "source": [
    "commo"
   ]
  },
  {
   "cell_type": "markdown",
   "metadata": {
    "colab": {},
    "colab_type": "code",
    "id": "zIdWnFmc1lwS"
   },
   "source": [
    "плохих данных(длиной не 2017) всего 57, еще плохие данные это те, которые имеют один пик, а на всем остальном промежутке почти константа, таких джоб 5"
   ]
  },
  {
   "cell_type": "code",
   "execution_count": 19,
   "metadata": {},
   "outputs": [],
   "source": [
    "one_pick=common_df[common_df['single_pick']==1]"
   ]
  },
  {
   "cell_type": "code",
   "execution_count": 210,
   "metadata": {},
   "outputs": [
    {
     "data": {
      "text/html": [
       "<div>\n",
       "<style scoped>\n",
       "    .dataframe tbody tr th:only-of-type {\n",
       "        vertical-align: middle;\n",
       "    }\n",
       "\n",
       "    .dataframe tbody tr th {\n",
       "        vertical-align: top;\n",
       "    }\n",
       "\n",
       "    .dataframe thead th {\n",
       "        text-align: right;\n",
       "    }\n",
       "</style>\n",
       "<table border=\"1\" class=\"dataframe\">\n",
       "  <thead>\n",
       "    <tr style=\"text-align: right;\">\n",
       "      <th></th>\n",
       "      <th>name</th>\n",
       "      <th>max</th>\n",
       "      <th>min</th>\n",
       "      <th>range</th>\n",
       "      <th>coef_var</th>\n",
       "      <th>len</th>\n",
       "      <th>single_pick</th>\n",
       "    </tr>\n",
       "  </thead>\n",
       "  <tbody>\n",
       "    <tr>\n",
       "      <th>438</th>\n",
       "      <td>i2ge571fe6h9451i82f6e2134i9hhhi4_10625_95182_r...</td>\n",
       "      <td>3937.42</td>\n",
       "      <td>71.37</td>\n",
       "      <td>3866.05</td>\n",
       "      <td>0.828242</td>\n",
       "      <td>2017</td>\n",
       "      <td>1</td>\n",
       "    </tr>\n",
       "    <tr>\n",
       "      <th>446</th>\n",
       "      <td>i2ge571fe6h9451i82f6e2134i9hhhi4_12890_129858_...</td>\n",
       "      <td>9.93</td>\n",
       "      <td>0.00</td>\n",
       "      <td>9.93</td>\n",
       "      <td>0.997222</td>\n",
       "      <td>2017</td>\n",
       "      <td>1</td>\n",
       "    </tr>\n",
       "    <tr>\n",
       "      <th>462</th>\n",
       "      <td>i2ge571fe6h9451i82f6e2134i9hhhi4_15114_146190_...</td>\n",
       "      <td>9.96</td>\n",
       "      <td>0.00</td>\n",
       "      <td>9.96</td>\n",
       "      <td>0.997143</td>\n",
       "      <td>2017</td>\n",
       "      <td>1</td>\n",
       "    </tr>\n",
       "    <tr>\n",
       "      <th>478</th>\n",
       "      <td>i6dg8515940i42f488h927if637d56i4_13438_130597_...</td>\n",
       "      <td>18.02</td>\n",
       "      <td>1.25</td>\n",
       "      <td>16.77</td>\n",
       "      <td>0.357434</td>\n",
       "      <td>2017</td>\n",
       "      <td>1</td>\n",
       "    </tr>\n",
       "    <tr>\n",
       "      <th>479</th>\n",
       "      <td>i6dg8515940i42f488h927if637d56i4_13438_130597_...</td>\n",
       "      <td>18.02</td>\n",
       "      <td>1.25</td>\n",
       "      <td>16.77</td>\n",
       "      <td>0.357254</td>\n",
       "      <td>2017</td>\n",
       "      <td>1</td>\n",
       "    </tr>\n",
       "  </tbody>\n",
       "</table>\n",
       "</div>"
      ],
      "text/plain": [
       "                                                  name      max    min  \\\n",
       "438  i2ge571fe6h9451i82f6e2134i9hhhi4_10625_95182_r...  3937.42  71.37   \n",
       "446  i2ge571fe6h9451i82f6e2134i9hhhi4_12890_129858_...     9.93   0.00   \n",
       "462  i2ge571fe6h9451i82f6e2134i9hhhi4_15114_146190_...     9.96   0.00   \n",
       "478  i6dg8515940i42f488h927if637d56i4_13438_130597_...    18.02   1.25   \n",
       "479  i6dg8515940i42f488h927if637d56i4_13438_130597_...    18.02   1.25   \n",
       "\n",
       "       range  coef_var   len  single_pick  \n",
       "438  3866.05  0.828242  2017            1  \n",
       "446     9.93  0.997222  2017            1  \n",
       "462     9.96  0.997143  2017            1  \n",
       "478    16.77  0.357434  2017            1  \n",
       "479    16.77  0.357254  2017            1  "
      ]
     },
     "execution_count": 210,
     "metadata": {},
     "output_type": "execute_result"
    }
   ],
   "source": [
    "one_pick"
   ]
  },
  {
   "cell_type": "code",
   "execution_count": 251,
   "metadata": {},
   "outputs": [],
   "source": [
    "s=common_df.at[657, 'name']"
   ]
  },
  {
   "cell_type": "code",
   "execution_count": 252,
   "metadata": {},
   "outputs": [],
   "source": [
    "with open(f\"{data_folder}\"+'/'+s) as f:\n",
    "    data = json.load(f)\n",
    "    df = pd.DataFrame(data['datapoints'])\n",
    "    df.drop('unit',axis=1,inplace=True)\n",
    "    df = df.set_index(['timestamp'])\n",
    "    df.index = pd.to_datetime(df.index, unit='ms')"
   ]
  },
  {
   "cell_type": "code",
   "execution_count": 253,
   "metadata": {},
   "outputs": [
    {
     "data": {
      "text/plain": [
       "<matplotlib.axes._subplots.AxesSubplot at 0x206ca0c4688>"
      ]
     },
     "execution_count": 253,
     "metadata": {},
     "output_type": "execute_result"
    },
    {
     "data": {
      "image/png": "[encoded data removed]",
      "text/plain": [
       "<Figure size 432x288 with 1 Axes>"
      ]
     },
     "metadata": {
      "needs_background": "light"
     },
     "output_type": "display_data"
    }
   ],
   "source": [
    "df.plot()"
   ]
  },
  {
   "cell_type": "code",
   "execution_count": 49,
   "metadata": {},
   "outputs": [],
   "source": [
    "def exponential_smoothing(series, alpha):\n",
    "    result = [series[0]] # first value is same as series\n",
    "    for n in range(1, len(series)):\n",
    "        result.append(alpha * series[n] + (1 - alpha) * result[n-1])\n",
    "    return result"
   ]
  },
  {
   "cell_type": "code",
   "execution_count": 50,
   "metadata": {},
   "outputs": [],
   "source": [
    "ex_sm=exponential_smoothing(df.average, 0.2)"
   ]
  },
  {
   "cell_type": "code",
   "execution_count": 202,
   "metadata": {},
   "outputs": [],
   "source": [
    "plt.close()"
   ]
  },
  {
   "cell_type": "code",
   "execution_count": 254,
   "metadata": {},
   "outputs": [
    {
     "data": {
      "text/plain": [
       "[<matplotlib.lines.Line2D at 0x206ca19ba08>]"
      ]
     },
     "execution_count": 254,
     "metadata": {},
     "output_type": "execute_result"
    },
    {
     "data": {
      "image/png": "[encoded data removed]",
      "text/plain": [
       "<Figure size 1080x360 with 1 Axes>"
      ]
     },
     "metadata": {
      "needs_background": "light"
     },
     "output_type": "display_data"
    }
   ],
   "source": [
    "plt.figure(figsize=(15,5))\n",
    "plt.plot(df, label=\"Actual values\")\n",
    "#plt.plot(ex_sm, label=\"exponential smoothing\")\n",
    "#plt.legend(loc=\"best\")"
   ]
  },
  {
   "cell_type": "markdown",
   "metadata": {},
   "source": [
    "проверим как ресемплинг влияет на точность предсказаний"
   ]
  },
  {
   "cell_type": "markdown",
   "metadata": {},
   "source": [
    "для начала исходная джоба с шагом 5 минут и простое экспоненциальное сглаживание"
   ]
  },
  {
   "cell_type": "code",
   "execution_count": null,
   "metadata": {},
   "outputs": [],
   "source": [
    "from statsmodels.tsa.api import ExponentialSmoothing, SimpleExpSmoothing, Holt"
   ]
  },
  {
   "cell_type": "code",
   "execution_count": 255,
   "metadata": {},
   "outputs": [
    {
     "name": "stderr",
     "output_type": "stream",
     "text": [
      "C:\\Users\\Svetlana\\anaconda33\\lib\\site-packages\\statsmodels\\tsa\\base\\tsa_model.py:162: ValueWarning: No frequency information was provided, so inferred frequency 5T will be used.\n",
      "  % freq, ValueWarning)\n"
     ]
    },
    {
     "data": {
      "text/plain": [
       "<matplotlib.axes._subplots.AxesSubplot at 0x206c6ff0e08>"
      ]
     },
     "execution_count": 255,
     "metadata": {},
     "output_type": "execute_result"
    },
    {
     "data": {
      "image/png": "[encoded data removed]",
      "text/plain": [
       "<Figure size 1080x360 with 1 Axes>"
      ]
     },
     "metadata": {
      "needs_background": "light"
     },
     "output_type": "display_data"
    }
   ],
   "source": [
    "plt.figure(figsize=(15,5))\n",
    "fit = SimpleExpSmoothing(df.average[0:1729]).fit(smoothing_level=0.2,optimized=False)\n",
    "pred = fit.forecast(288).rename(r'$\\alpha=0.2$')\n",
    "plt.plot(df, label=\"Actual values\", color='blue')\n",
    "pred.plot(color='red', legend=True)\n",
    "#fit1.fittedvalues.plot(color='blue')\n"
   ]
  },
  {
   "cell_type": "code",
   "execution_count": 105,
   "metadata": {},
   "outputs": [],
   "source": [
    "from sklearn.metrics import mean_squared_error"
   ]
  },
  {
   "cell_type": "code",
   "execution_count": 280,
   "metadata": {},
   "outputs": [
    {
     "data": {
      "text/plain": [
       "average   -57.86606\n",
       "dtype: float64"
      ]
     },
     "execution_count": 280,
     "metadata": {},
     "output_type": "execute_result"
    }
   ],
   "source": [
    "mean_squared_error(df.average[1729:2017], pred)-df.max()"
   ]
  },
  {
   "cell_type": "code",
   "execution_count": 257,
   "metadata": {},
   "outputs": [],
   "source": [
    "df_resample_15T = pd.DataFrame()\n",
    "df_resample_15T['average'] = df.average.resample('15T').sum()"
   ]
  },
  {
   "cell_type": "code",
   "execution_count": 258,
   "metadata": {},
   "outputs": [
    {
     "data": {
      "text/plain": [
       "673"
      ]
     },
     "execution_count": 258,
     "metadata": {},
     "output_type": "execute_result"
    }
   ],
   "source": [
    "len(df_resample_15T)"
   ]
  },
  {
   "cell_type": "code",
   "execution_count": 259,
   "metadata": {},
   "outputs": [
    {
     "data": {
      "text/plain": [
       "<matplotlib.axes._subplots.AxesSubplot at 0x206c6fccac8>"
      ]
     },
     "execution_count": 259,
     "metadata": {},
     "output_type": "execute_result"
    },
    {
     "data": {
      "image/png": "[encoded data removed]",
      "text/plain": [
       "<Figure size 1080x360 with 1 Axes>"
      ]
     },
     "metadata": {
      "needs_background": "light"
     },
     "output_type": "display_data"
    }
   ],
   "source": [
    "plt.figure(figsize=(15,5))\n",
    "fit1 = SimpleExpSmoothing(df_resample_15T.average[0:577]).fit(smoothing_level=0.2,optimized=False)\n",
    "pred1 = fit1.forecast(96).rename(r'$\\alpha=0.2$')\n",
    "plt.plot(df_resample_15T, label=\"Actual values\", color='blue')\n",
    "pred1.plot( color='red', legend=True)"
   ]
  },
  {
   "cell_type": "code",
   "execution_count": 279,
   "metadata": {},
   "outputs": [
    {
     "data": {
      "text/plain": [
       "average    85.081271\n",
       "dtype: float64"
      ]
     },
     "execution_count": 279,
     "metadata": {},
     "output_type": "execute_result"
    }
   ],
   "source": [
    "mean_squared_error(df_resample_15T.average[577:], pred1)-df_resample_15T.max()"
   ]
  },
  {
   "cell_type": "code",
   "execution_count": 261,
   "metadata": {},
   "outputs": [],
   "source": [
    "df_resample_30T = pd.DataFrame()\n",
    "df_resample_30T['average'] = df.average.resample('30T').sum()"
   ]
  },
  {
   "cell_type": "code",
   "execution_count": 262,
   "metadata": {},
   "outputs": [
    {
     "data": {
      "text/plain": [
       "337"
      ]
     },
     "execution_count": 262,
     "metadata": {},
     "output_type": "execute_result"
    }
   ],
   "source": [
    "len(df_resample_30T)"
   ]
  },
  {
   "cell_type": "code",
   "execution_count": 263,
   "metadata": {},
   "outputs": [
    {
     "data": {
      "text/plain": [
       "<matplotlib.axes._subplots.AxesSubplot at 0x206c6c1a248>"
      ]
     },
     "execution_count": 263,
     "metadata": {},
     "output_type": "execute_result"
    },
    {
     "data": {
      "image/png": "[encoded data removed]",
      "text/plain": [
       "<Figure size 1080x360 with 1 Axes>"
      ]
     },
     "metadata": {
      "needs_background": "light"
     },
     "output_type": "display_data"
    }
   ],
   "source": [
    "plt.figure(figsize=(15,5))\n",
    "fit2 = SimpleExpSmoothing(df_resample_30T.average[0:289]).fit(smoothing_level=0.2,optimized=False)\n",
    "pred2 = fit2.forecast(48).rename(r'$\\alpha=0.2$')\n",
    "plt.plot(df_resample_30T, label=\"Actual values\", color='blue')\n",
    "pred2.plot( color='red', legend=True)"
   ]
  },
  {
   "cell_type": "code",
   "execution_count": 278,
   "metadata": {},
   "outputs": [
    {
     "data": {
      "text/plain": [
       "average    469.778797\n",
       "dtype: float64"
      ]
     },
     "execution_count": 278,
     "metadata": {},
     "output_type": "execute_result"
    }
   ],
   "source": [
    "mean_squared_error(pred2,df_resample_30T[289:337])-df_resample_30T.max()"
   ]
  },
  {
   "cell_type": "code",
   "execution_count": 265,
   "metadata": {},
   "outputs": [],
   "source": [
    "df_resample_60T = pd.DataFrame()\n",
    "df_resample_60T['average'] = df.average.resample('60T').sum()"
   ]
  },
  {
   "cell_type": "code",
   "execution_count": 266,
   "metadata": {},
   "outputs": [
    {
     "data": {
      "text/plain": [
       "<matplotlib.axes._subplots.AxesSubplot at 0x206c707d688>"
      ]
     },
     "execution_count": 266,
     "metadata": {},
     "output_type": "execute_result"
    },
    {
     "data": {
      "image/png": "[encoded data removed]",
      "text/plain": [
       "<Figure size 1080x360 with 1 Axes>"
      ]
     },
     "metadata": {
      "needs_background": "light"
     },
     "output_type": "display_data"
    }
   ],
   "source": [
    "plt.figure(figsize=(15,5))\n",
    "fit3 = SimpleExpSmoothing(df_resample_60T.average[0:145]).fit(smoothing_level=0.2,optimized=False)\n",
    "pred3 = fit3.forecast(24).rename(r'$\\alpha=0.2$')\n",
    "plt.plot(df_resample_60T, label=\"Actual values\", color='blue')\n",
    "pred3.plot( color='red', legend=True)"
   ]
  },
  {
   "cell_type": "code",
   "execution_count": 277,
   "metadata": {},
   "outputs": [
    {
     "data": {
      "text/plain": [
       "average    2298.374725\n",
       "dtype: float64"
      ]
     },
     "execution_count": 277,
     "metadata": {},
     "output_type": "execute_result"
    }
   ],
   "source": [
    "mean_squared_error(pred3,df_resample_60T[145:169])-df_resample_60T.max()"
   ]
  },
  {
   "cell_type": "code",
   "execution_count": 268,
   "metadata": {},
   "outputs": [],
   "source": [
    "df_resample_90T = pd.DataFrame()\n",
    "df_resample_90T['average'] = df.average.resample('90T').sum()"
   ]
  },
  {
   "cell_type": "code",
   "execution_count": 190,
   "metadata": {},
   "outputs": [
    {
     "data": {
      "text/plain": [
       "113"
      ]
     },
     "execution_count": 190,
     "metadata": {},
     "output_type": "execute_result"
    }
   ],
   "source": [
    "len(df_resample_90T)"
   ]
  },
  {
   "cell_type": "code",
   "execution_count": 269,
   "metadata": {},
   "outputs": [
    {
     "data": {
      "text/plain": [
       "<matplotlib.axes._subplots.AxesSubplot at 0x206c73cc808>"
      ]
     },
     "execution_count": 269,
     "metadata": {},
     "output_type": "execute_result"
    },
    {
     "data": {
      "image/png": "[encoded data removed]",
      "text/plain": [
       "<Figure size 1080x360 with 1 Axes>"
      ]
     },
     "metadata": {
      "needs_background": "light"
     },
     "output_type": "display_data"
    }
   ],
   "source": [
    "plt.figure(figsize=(15,5))\n",
    "fit4 = SimpleExpSmoothing(df_resample_90T.average[0:97]).fit(smoothing_level=0.2,optimized=False)\n",
    "pred4 = fit4.forecast(16).rename(r'$\\alpha=0.2$')\n",
    "plt.plot(df_resample_90T, label=\"Actual values\", color='blue')\n",
    "pred4.plot( color='red', legend=True)"
   ]
  },
  {
   "cell_type": "code",
   "execution_count": 276,
   "metadata": {},
   "outputs": [
    {
     "data": {
      "text/plain": [
       "average    2769.995092\n",
       "dtype: float64"
      ]
     },
     "execution_count": 276,
     "metadata": {},
     "output_type": "execute_result"
    }
   ],
   "source": [
    "mean_squared_error(pred4,df_resample_90T[97:113])-df_resample_90T.max()"
   ]
  },
  {
   "cell_type": "markdown",
   "metadata": {},
   "source": [
    "MSE с каждым ресемплингом становится больше"
   ]
  },
  {
   "cell_type": "markdown",
   "metadata": {},
   "source": [
    "попробуем ARIMA"
   ]
  },
  {
   "cell_type": "code",
   "execution_count": 281,
   "metadata": {},
   "outputs": [],
   "source": [
    "from statsmodels.tsa.arima_model import ARIMA"
   ]
  },
  {
   "cell_type": "code",
   "execution_count": 291,
   "metadata": {},
   "outputs": [
    {
     "data": {
      "text/plain": [
       "[<matplotlib.lines.Line2D at 0x206caf679c8>]"
      ]
     },
     "execution_count": 291,
     "metadata": {},
     "output_type": "execute_result"
    },
    {
     "data": {
      "image/png": "[encoded data removed]",
      "text/plain": [
       "<Figure size 432x288 with 1 Axes>"
      ]
     },
     "metadata": {
      "needs_background": "light"
     },
     "output_type": "display_data"
    }
   ],
   "source": [
    "model = ARIMA(df_resample_90T, order=(1,1,2))\n",
    "results = model.fit(disp=False)\n",
    "plt.plot(df_resample_90T)\n",
    "plt.plot(results.fittedvalues, color='red')"
   ]
  },
  {
   "cell_type": "code",
   "execution_count": 292,
   "metadata": {},
   "outputs": [
    {
     "name": "stdout",
     "output_type": "stream",
     "text": [
      "ADF Statistic: -5.434501\n",
      "p-value: 0.000003\n"
     ]
    }
   ],
   "source": [
    "from statsmodels.tsa.stattools import adfuller\n",
    "from numpy import log\n",
    "result = adfuller(df_resample_90T.average)\n",
    "print('ADF Statistic: %f' % result[0])\n",
    "print('p-value: %f' % result[1])"
   ]
  },
  {
   "cell_type": "markdown",
   "metadata": {},
   "source": [
    "p<<0,05 следовательно нулевая гипотеза о нестационарности ряда отвергается - ряд СТАЦИОНАРНЫЙ"
   ]
  },
  {
   "cell_type": "code",
   "execution_count": 296,
   "metadata": {},
   "outputs": [],
   "source": [
    "from statsmodels.graphics.tsaplots import plot_acf, plot_pacf"
   ]
  }
 ],
 "metadata": {
  "colab": {
   "collapsed_sections": [],
   "name": "clustering.ipynb",
   "provenance": []
  },
  "kernelspec": {
   "display_name": "Python 3",
   "language": "python",
   "name": "python3"
  },
  "language_info": {
   "codemirror_mode": {
    "name": "ipython",
    "version": 3
   },
   "file_extension": ".py",
   "mimetype": "text/x-python",
   "name": "python",
   "nbconvert_exporter": "python",
   "pygments_lexer": "ipython3",
   "version": "3.7.6"
  }
 },
 "nbformat": 4,
 "nbformat_minor": 1
}
