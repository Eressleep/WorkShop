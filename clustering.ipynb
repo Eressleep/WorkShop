{
  "nbformat": 4,
  "nbformat_minor": 0,
  "metadata": {
    "colab": {
      "name": "clustering.ipynb",
      "provenance": [],
      "collapsed_sections": []
    },
    "kernelspec": {
      "name": "python3",
      "display_name": "Python 3"
    }
  },
  "cells": [
    {
      "cell_type": "code",
      "metadata": {
        "id": "XI_NxyDq_h0Y",
        "colab_type": "code",
        "colab": {}
      },
      "source": [
        "import numpy as np\n",
        "import pandas as pd\n",
        "import matplotlib.pyplot as plt\n",
        "import datetime\n",
        "import time\n",
        "import os\n",
        "import json\n",
        "from pandas.io.json import json_normalize\n"
      ],
      "execution_count": 11,
      "outputs": []
    },
    {
      "cell_type": "code",
      "metadata": {
        "id": "Vx1Igo16QhX-",
        "colab_type": "code",
        "colab": {
          "base_uri": "https://localhost:8080/",
          "height": 776
        },
        "outputId": "96cb6594-f628-41cc-cd8e-0b87ea43d9a5"
      },
      "source": [
        "pip install tsfresh"
      ],
      "execution_count": 6,
      "outputs": [
        {
          "output_type": "stream",
          "text": [
            "Collecting tsfresh\n",
            "\u001b[?25l  Downloading https://files.pythonhosted.org/packages/46/52/978e078fb1fe411b85f04b224cd54267b53096111f88a5513b7bffa181f6/tsfresh-0.16.0-py2.py3-none-any.whl (85kB)\n",
            "\r\u001b[K     |███▉                            | 10kB 19.0MB/s eta 0:00:01\r\u001b[K     |███████▊                        | 20kB 1.8MB/s eta 0:00:01\r\u001b[K     |███████████▋                    | 30kB 2.2MB/s eta 0:00:01\r\u001b[K     |███████████████▍                | 40kB 2.5MB/s eta 0:00:01\r\u001b[K     |███████████████████▎            | 51kB 2.0MB/s eta 0:00:01\r\u001b[K     |███████████████████████▏        | 61kB 2.3MB/s eta 0:00:01\r\u001b[K     |███████████████████████████     | 71kB 2.5MB/s eta 0:00:01\r\u001b[K     |██████████████████████████████▉ | 81kB 2.7MB/s eta 0:00:01\r\u001b[K     |████████████████████████████████| 92kB 2.4MB/s \n",
            "\u001b[?25hRequirement already satisfied: pandas!=0.24.*,>=0.20.3 in /usr/local/lib/python3.6/dist-packages (from tsfresh) (1.0.5)\n",
            "Requirement already satisfied: requests>=2.9.1 in /usr/local/lib/python3.6/dist-packages (from tsfresh) (2.23.0)\n",
            "Requirement already satisfied: dask[dataframe]>=0.15.2 in /usr/local/lib/python3.6/dist-packages (from tsfresh) (2.12.0)\n",
            "Requirement already satisfied: scikit-learn>=0.19.0 in /usr/local/lib/python3.6/dist-packages (from tsfresh) (0.22.2.post1)\n",
            "Requirement already satisfied: patsy>=0.4.1 in /usr/local/lib/python3.6/dist-packages (from tsfresh) (0.5.1)\n",
            "Requirement already satisfied: numpy>=1.15.1 in /usr/local/lib/python3.6/dist-packages (from tsfresh) (1.18.5)\n",
            "Requirement already satisfied: tqdm>=4.10.0 in /usr/local/lib/python3.6/dist-packages (from tsfresh) (4.41.1)\n",
            "Requirement already satisfied: statsmodels>=0.8.0 in /usr/local/lib/python3.6/dist-packages (from tsfresh) (0.10.2)\n",
            "Requirement already satisfied: scipy>=1.2.0 in /usr/local/lib/python3.6/dist-packages (from tsfresh) (1.4.1)\n",
            "Requirement already satisfied: distributed>=1.18.3 in /usr/local/lib/python3.6/dist-packages (from tsfresh) (1.25.3)\n",
            "Requirement already satisfied: python-dateutil>=2.6.1 in /usr/local/lib/python3.6/dist-packages (from pandas!=0.24.*,>=0.20.3->tsfresh) (2.8.1)\n",
            "Requirement already satisfied: pytz>=2017.2 in /usr/local/lib/python3.6/dist-packages (from pandas!=0.24.*,>=0.20.3->tsfresh) (2018.9)\n",
            "Requirement already satisfied: chardet<4,>=3.0.2 in /usr/local/lib/python3.6/dist-packages (from requests>=2.9.1->tsfresh) (3.0.4)\n",
            "Requirement already satisfied: idna<3,>=2.5 in /usr/local/lib/python3.6/dist-packages (from requests>=2.9.1->tsfresh) (2.10)\n",
            "Requirement already satisfied: urllib3!=1.25.0,!=1.25.1,<1.26,>=1.21.1 in /usr/local/lib/python3.6/dist-packages (from requests>=2.9.1->tsfresh) (1.24.3)\n",
            "Requirement already satisfied: certifi>=2017.4.17 in /usr/local/lib/python3.6/dist-packages (from requests>=2.9.1->tsfresh) (2020.6.20)\n",
            "Requirement already satisfied: fsspec>=0.6.0; extra == \"dataframe\" in /usr/local/lib/python3.6/dist-packages (from dask[dataframe]>=0.15.2->tsfresh) (0.7.4)\n",
            "Requirement already satisfied: toolz>=0.7.3; extra == \"dataframe\" in /usr/local/lib/python3.6/dist-packages (from dask[dataframe]>=0.15.2->tsfresh) (0.10.0)\n",
            "Collecting partd>=0.3.10; extra == \"dataframe\"\n",
            "  Downloading https://files.pythonhosted.org/packages/44/e1/68dbe731c9c067655bff1eca5b7d40c20ca4b23fd5ec9f3d17e201a6f36b/partd-1.1.0-py3-none-any.whl\n",
            "Requirement already satisfied: joblib>=0.11 in /usr/local/lib/python3.6/dist-packages (from scikit-learn>=0.19.0->tsfresh) (0.16.0)\n",
            "Requirement already satisfied: six in /usr/local/lib/python3.6/dist-packages (from patsy>=0.4.1->tsfresh) (1.12.0)\n",
            "Requirement already satisfied: zict>=0.1.3 in /usr/local/lib/python3.6/dist-packages (from distributed>=1.18.3->tsfresh) (2.0.0)\n",
            "Requirement already satisfied: click>=6.6 in /usr/local/lib/python3.6/dist-packages (from distributed>=1.18.3->tsfresh) (7.1.2)\n",
            "Requirement already satisfied: sortedcontainers!=2.0.0,!=2.0.1 in /usr/local/lib/python3.6/dist-packages (from distributed>=1.18.3->tsfresh) (2.2.2)\n",
            "Requirement already satisfied: cloudpickle>=0.2.2 in /usr/local/lib/python3.6/dist-packages (from distributed>=1.18.3->tsfresh) (1.3.0)\n",
            "Requirement already satisfied: psutil>=5.0 in /usr/local/lib/python3.6/dist-packages (from distributed>=1.18.3->tsfresh) (5.4.8)\n",
            "Requirement already satisfied: tblib in /usr/local/lib/python3.6/dist-packages (from distributed>=1.18.3->tsfresh) (1.6.0)\n",
            "Requirement already satisfied: tornado>=4.5.1 in /usr/local/lib/python3.6/dist-packages (from distributed>=1.18.3->tsfresh) (4.5.3)\n",
            "Requirement already satisfied: pyyaml in /usr/local/lib/python3.6/dist-packages (from distributed>=1.18.3->tsfresh) (3.13)\n",
            "Requirement already satisfied: msgpack in /usr/local/lib/python3.6/dist-packages (from distributed>=1.18.3->tsfresh) (1.0.0)\n",
            "Collecting locket\n",
            "  Downloading https://files.pythonhosted.org/packages/d0/22/3c0f97614e0be8386542facb3a7dcfc2584f7b83608c02333bced641281c/locket-0.2.0.tar.gz\n",
            "Requirement already satisfied: heapdict in /usr/local/lib/python3.6/dist-packages (from zict>=0.1.3->distributed>=1.18.3->tsfresh) (1.0.1)\n",
            "Building wheels for collected packages: locket\n",
            "  Building wheel for locket (setup.py) ... \u001b[?25l\u001b[?25hdone\n",
            "  Created wheel for locket: filename=locket-0.2.0-cp36-none-any.whl size=4040 sha256=0057dbf29c00df70acbca7818a402534a84fa71120f069426784ae5f687d6689\n",
            "  Stored in directory: /root/.cache/pip/wheels/26/1e/e8/4fa236ec931b1a0cdd61578e20d4934d7bf188858723b84698\n",
            "Successfully built locket\n",
            "Installing collected packages: tsfresh, locket, partd\n",
            "Successfully installed locket-0.2.0 partd-1.1.0 tsfresh-0.16.0\n"
          ],
          "name": "stdout"
        }
      ]
    },
    {
      "cell_type": "code",
      "metadata": {
        "id": "_w3hVsOgRqNR",
        "colab_type": "code",
        "colab": {}
      },
      "source": [
        "import tsfresh"
      ],
      "execution_count": 8,
      "outputs": []
    },
    {
      "cell_type": "code",
      "metadata": {
        "id": "V82c0BveRwU6",
        "colab_type": "code",
        "colab": {}
      },
      "source": [
        "from tsfresh.examples.har_dataset import download_har_dataset, load_har_dataset, load_har_classes\n",
        "from tsfresh import extract_features, extract_relevant_features, select_features\n",
        "from  tsfresh.feature_extraction  import  extract_features "
      ],
      "execution_count": 10,
      "outputs": []
    },
    {
      "cell_type": "code",
      "metadata": {
        "id": "ku1sPCxDA3cR",
        "colab_type": "code",
        "colab": {}
      },
      "source": [
        "data_folder = '/content/drive/My Drive/flink_metric_data_new/'\n",
        "folder = []\n",
        "for i in os.walk('/content/drive/My Drive/flink_metric_data_new'):\n",
        "    folder.append(i)\n",
        "    "
      ],
      "execution_count": 13,
      "outputs": []
    },
    {
      "cell_type": "code",
      "metadata": {
        "id": "pi96SimXI2y6",
        "colab_type": "code",
        "colab": {}
      },
      "source": [
        "common_df = pd.DataFrame(columns = ['name', 'max', 'min', 'range', 'coef_var', 'num_peaks1', 'num_peaks2'])"
      ],
      "execution_count": 26,
      "outputs": []
    },
    {
      "cell_type": "code",
      "metadata": {
        "id": "4JokOFSnNHho",
        "colab_type": "code",
        "colab": {
          "base_uri": "https://localhost:8080/",
          "height": 47
        },
        "outputId": "278f16d7-383e-44b1-f8a4-fd2ec7c004b2"
      },
      "source": [
        "common_df.head()"
      ],
      "execution_count": 27,
      "outputs": [
        {
          "output_type": "execute_result",
          "data": {
            "text/html": [
              "<div>\n",
              "<style scoped>\n",
              "    .dataframe tbody tr th:only-of-type {\n",
              "        vertical-align: middle;\n",
              "    }\n",
              "\n",
              "    .dataframe tbody tr th {\n",
              "        vertical-align: top;\n",
              "    }\n",
              "\n",
              "    .dataframe thead th {\n",
              "        text-align: right;\n",
              "    }\n",
              "</style>\n",
              "<table border=\"1\" class=\"dataframe\">\n",
              "  <thead>\n",
              "    <tr style=\"text-align: right;\">\n",
              "      <th></th>\n",
              "      <th>name</th>\n",
              "      <th>max</th>\n",
              "      <th>min</th>\n",
              "      <th>range</th>\n",
              "      <th>coef_var</th>\n",
              "      <th>num_peaks1</th>\n",
              "      <th>num_peaks2</th>\n",
              "    </tr>\n",
              "  </thead>\n",
              "  <tbody>\n",
              "  </tbody>\n",
              "</table>\n",
              "</div>"
            ],
            "text/plain": [
              "Empty DataFrame\n",
              "Columns: [name, max, min, range, coef_var, num_peaks1, num_peaks2]\n",
              "Index: []"
            ]
          },
          "metadata": {
            "tags": []
          },
          "execution_count": 27
        }
      ]
    },
    {
      "cell_type": "code",
      "metadata": {
        "id": "UoGfVk5JnmLS",
        "colab_type": "code",
        "colab": {}
      },
      "source": [
        "row_list=[]\n"
      ],
      "execution_count": 35,
      "outputs": []
    },
    {
      "cell_type": "code",
      "metadata": {
        "id": "Ut4Wf6db0P50",
        "colab_type": "code",
        "colab": {
          "base_uri": "https://localhost:8080/",
          "height": 34
        },
        "outputId": "d75108e6-181c-4175-ac8e-30ce9d918d0e"
      },
      "source": [
        "print(row_list)"
      ],
      "execution_count": 16,
      "outputs": [
        {
          "output_type": "stream",
          "text": [
            "[]\n"
          ],
          "name": "stdout"
        }
      ]
    },
    {
      "cell_type": "code",
      "metadata": {
        "id": "U65BNL_Pqx1y",
        "colab_type": "code",
        "colab": {}
      },
      "source": [
        "dict1={}"
      ],
      "execution_count": 36,
      "outputs": []
    },
    {
      "cell_type": "code",
      "metadata": {
        "id": "cI5sPvzXTLCY",
        "colab_type": "code",
        "colab": {}
      },
      "source": [
        "data_folder = '/content/drive/My Drive/flink_metric_data_new/'\n",
        "with open(f\"{data_folder}10h4id8fd1ii4477diifdd5d3iig9596_15360_129942_read_records_per_second.json\") as f:\n",
        "    data = json.load(f)\n",
        "    df = pd.DataFrame(data['datapoints'])\n",
        "    df.drop('unit',axis=1,inplace=True)"
      ],
      "execution_count": 30,
      "outputs": []
    },
    {
      "cell_type": "code",
      "metadata": {
        "id": "c1PLW_I8UEMq",
        "colab_type": "code",
        "colab": {
          "base_uri": "https://localhost:8080/",
          "height": 34
        },
        "outputId": "8d731adc-79d8-4061-bf20-a58abb4f7568"
      },
      "source": [
        "tsfresh.feature_extraction.feature_calculators.number_peaks(df.average, 40)"
      ],
      "execution_count": 25,
      "outputs": [
        {
          "output_type": "execute_result",
          "data": {
            "text/plain": [
              "24"
            ]
          },
          "metadata": {
            "tags": []
          },
          "execution_count": 25
        }
      ]
    },
    {
      "cell_type": "code",
      "metadata": {
        "id": "qSTKiLroq9eV",
        "colab_type": "code",
        "colab": {
          "base_uri": "https://localhost:8080/",
          "height": 34
        },
        "outputId": "e998d0f4-d69e-4869-9d0c-cc59f0073dfe"
      },
      "source": [
        "print(dict1)"
      ],
      "execution_count": null,
      "outputs": [
        {
          "output_type": "stream",
          "text": [
            "{}\n"
          ],
          "name": "stdout"
        }
      ]
    },
    {
      "cell_type": "code",
      "metadata": {
        "id": "KZpAdq8MCZ8l",
        "colab_type": "code",
        "colab": {}
      },
      "source": [
        " \n",
        "for address, dirs, files in folder:\n",
        "  for file in files:\n",
        "    with open(address+'/'+file) as f:\n",
        "      data = json.load(f)\n",
        "      df = pd.DataFrame(data['datapoints'])\n",
        "      df.drop('unit',axis=1,inplace=True)\n",
        "      df = df.set_index(['timestamp'])\n",
        "      df.index = pd.to_datetime(df.index, unit='ms')\n",
        "      df_mean=pd.DataFrame()\n",
        "      df_mean['average'] = df.average.resample('30T').sum()\n",
        "      dict1 ={}\n",
        "      coef_variation = -1\n",
        "      if (df_mean['average'].mean()!=0):\n",
        "        coef_variation=df_mean['average'].std()/df_mean['average'].mean()\n",
        "      dict1.update({'name':file,'max': df_mean['average'].max(), \n",
        "                    'min': df_mean['average'].min(),\n",
        "                    'range':df_mean['average'].max()-df_mean['average'].min(),\n",
        "                    'coef_var': coef_variation,\n",
        "                    'num_peaks1': tsfresh.feature_extraction.feature_calculators.number_peaks(df_mean.average, 5), })\n",
        "      #print(dict1)\n",
        "      row_list.append(dict1)\n",
        "      \n",
        "common_df = pd.DataFrame(row_list) \n",
        "\n",
        "\n",
        "      "
      ],
      "execution_count": 37,
      "outputs": []
    },
    {
      "cell_type": "code",
      "metadata": {
        "id": "QpK_ZcBvnxdo",
        "colab_type": "code",
        "colab": {
          "base_uri": "https://localhost:8080/",
          "height": 639
        },
        "outputId": "abddddd1-3da9-4131-8e0f-b58ac3efd0d3"
      },
      "source": [
        "common_df.head(20)"
      ],
      "execution_count": 38,
      "outputs": [
        {
          "output_type": "execute_result",
          "data": {
            "text/html": [
              "<div>\n",
              "<style scoped>\n",
              "    .dataframe tbody tr th:only-of-type {\n",
              "        vertical-align: middle;\n",
              "    }\n",
              "\n",
              "    .dataframe tbody tr th {\n",
              "        vertical-align: top;\n",
              "    }\n",
              "\n",
              "    .dataframe thead th {\n",
              "        text-align: right;\n",
              "    }\n",
              "</style>\n",
              "<table border=\"1\" class=\"dataframe\">\n",
              "  <thead>\n",
              "    <tr style=\"text-align: right;\">\n",
              "      <th></th>\n",
              "      <th>name</th>\n",
              "      <th>max</th>\n",
              "      <th>min</th>\n",
              "      <th>range</th>\n",
              "      <th>coef_var</th>\n",
              "      <th>num_peaks1</th>\n",
              "    </tr>\n",
              "  </thead>\n",
              "  <tbody>\n",
              "    <tr>\n",
              "      <th>0</th>\n",
              "      <td>f2i2650h5edh4f179g21985f69838257_16838_165885_...</td>\n",
              "      <td>269.89</td>\n",
              "      <td>0.00</td>\n",
              "      <td>269.89</td>\n",
              "      <td>0.897736</td>\n",
              "      <td>14</td>\n",
              "    </tr>\n",
              "    <tr>\n",
              "      <th>1</th>\n",
              "      <td>f2i2650h5edh4f179g21985f69838257_16838_165883_...</td>\n",
              "      <td>0.00</td>\n",
              "      <td>0.00</td>\n",
              "      <td>0.00</td>\n",
              "      <td>-1.000000</td>\n",
              "      <td>0</td>\n",
              "    </tr>\n",
              "    <tr>\n",
              "      <th>2</th>\n",
              "      <td>f2i2650h5edh4f179g21985f69838257_16838_165884_...</td>\n",
              "      <td>0.00</td>\n",
              "      <td>0.00</td>\n",
              "      <td>0.00</td>\n",
              "      <td>-1.000000</td>\n",
              "      <td>0</td>\n",
              "    </tr>\n",
              "    <tr>\n",
              "      <th>3</th>\n",
              "      <td>f2i2650h5edh4f179g21985f69838257_16838_165884_...</td>\n",
              "      <td>0.00</td>\n",
              "      <td>0.00</td>\n",
              "      <td>0.00</td>\n",
              "      <td>-1.000000</td>\n",
              "      <td>0</td>\n",
              "    </tr>\n",
              "    <tr>\n",
              "      <th>4</th>\n",
              "      <td>ge5e1f4e1gg14621d76087h68g63gd6e_16536_155394_...</td>\n",
              "      <td>0.00</td>\n",
              "      <td>0.00</td>\n",
              "      <td>0.00</td>\n",
              "      <td>-1.000000</td>\n",
              "      <td>0</td>\n",
              "    </tr>\n",
              "    <tr>\n",
              "      <th>5</th>\n",
              "      <td>d7h8e83ief014e59dii5id3ie14585i2_13599_184341_...</td>\n",
              "      <td>0.00</td>\n",
              "      <td>0.00</td>\n",
              "      <td>0.00</td>\n",
              "      <td>-1.000000</td>\n",
              "      <td>0</td>\n",
              "    </tr>\n",
              "    <tr>\n",
              "      <th>6</th>\n",
              "      <td>f2i2650h5edh4f179g21985f69838257_16838_165880_...</td>\n",
              "      <td>0.00</td>\n",
              "      <td>0.00</td>\n",
              "      <td>0.00</td>\n",
              "      <td>-1.000000</td>\n",
              "      <td>0</td>\n",
              "    </tr>\n",
              "    <tr>\n",
              "      <th>7</th>\n",
              "      <td>eid906e5eg02401geg5h28i7d3980dgi_18440_160457_...</td>\n",
              "      <td>14.67</td>\n",
              "      <td>0.00</td>\n",
              "      <td>14.67</td>\n",
              "      <td>0.815435</td>\n",
              "      <td>22</td>\n",
              "    </tr>\n",
              "    <tr>\n",
              "      <th>8</th>\n",
              "      <td>9g79i0fh02064f90e83dg5g06d8e1h1i_6381_97647_wr...</td>\n",
              "      <td>97.50</td>\n",
              "      <td>15.96</td>\n",
              "      <td>81.54</td>\n",
              "      <td>0.046238</td>\n",
              "      <td>18</td>\n",
              "    </tr>\n",
              "    <tr>\n",
              "      <th>9</th>\n",
              "      <td>f2i2650h5edh4f179g21985f69838257_16838_165881_...</td>\n",
              "      <td>215.14</td>\n",
              "      <td>3.00</td>\n",
              "      <td>212.14</td>\n",
              "      <td>0.605721</td>\n",
              "      <td>14</td>\n",
              "    </tr>\n",
              "    <tr>\n",
              "      <th>10</th>\n",
              "      <td>9g79i0fh02064f90e83dg5g06d8e1h1i_6381_96786_wr...</td>\n",
              "      <td>120075.56</td>\n",
              "      <td>19978.57</td>\n",
              "      <td>100096.99</td>\n",
              "      <td>0.046756</td>\n",
              "      <td>26</td>\n",
              "    </tr>\n",
              "    <tr>\n",
              "      <th>11</th>\n",
              "      <td>d7h8e83ief014e59dii5id3ie14585i2_13599_184340_...</td>\n",
              "      <td>0.00</td>\n",
              "      <td>0.00</td>\n",
              "      <td>0.00</td>\n",
              "      <td>-1.000000</td>\n",
              "      <td>0</td>\n",
              "    </tr>\n",
              "    <tr>\n",
              "      <th>12</th>\n",
              "      <td>9g79i0fh02064f90e83dg5g06d8e1h1i_6381_97655_wr...</td>\n",
              "      <td>319.14</td>\n",
              "      <td>53.00</td>\n",
              "      <td>266.14</td>\n",
              "      <td>0.045509</td>\n",
              "      <td>24</td>\n",
              "    </tr>\n",
              "    <tr>\n",
              "      <th>13</th>\n",
              "      <td>d7h8e83ief014e59dii5id3ie14585i2_13599_184341_...</td>\n",
              "      <td>0.00</td>\n",
              "      <td>0.00</td>\n",
              "      <td>0.00</td>\n",
              "      <td>-1.000000</td>\n",
              "      <td>0</td>\n",
              "    </tr>\n",
              "    <tr>\n",
              "      <th>14</th>\n",
              "      <td>ge5e1f4e1gg14621d76087h68g63gd6e_16536_155156_...</td>\n",
              "      <td>0.00</td>\n",
              "      <td>0.00</td>\n",
              "      <td>0.00</td>\n",
              "      <td>-1.000000</td>\n",
              "      <td>0</td>\n",
              "    </tr>\n",
              "    <tr>\n",
              "      <th>15</th>\n",
              "      <td>ge5e1f4e1gg14621d76087h68g63gd6e_16536_155393_...</td>\n",
              "      <td>0.00</td>\n",
              "      <td>0.00</td>\n",
              "      <td>0.00</td>\n",
              "      <td>-1.000000</td>\n",
              "      <td>0</td>\n",
              "    </tr>\n",
              "    <tr>\n",
              "      <th>16</th>\n",
              "      <td>f2i2650h5edh4f179g21985f69838257_16838_165881_...</td>\n",
              "      <td>169.91</td>\n",
              "      <td>2.00</td>\n",
              "      <td>167.91</td>\n",
              "      <td>0.593369</td>\n",
              "      <td>15</td>\n",
              "    </tr>\n",
              "    <tr>\n",
              "      <th>17</th>\n",
              "      <td>f2i2650h5edh4f179g21985f69838257_16838_165883_...</td>\n",
              "      <td>0.00</td>\n",
              "      <td>0.00</td>\n",
              "      <td>0.00</td>\n",
              "      <td>-1.000000</td>\n",
              "      <td>0</td>\n",
              "    </tr>\n",
              "    <tr>\n",
              "      <th>18</th>\n",
              "      <td>9g79i0fh02064f90e83dg5g06d8e1h1i_6381_97655_re...</td>\n",
              "      <td>756.44</td>\n",
              "      <td>123.00</td>\n",
              "      <td>633.44</td>\n",
              "      <td>0.049072</td>\n",
              "      <td>16</td>\n",
              "    </tr>\n",
              "    <tr>\n",
              "      <th>19</th>\n",
              "      <td>eid906e5eg02401geg5h28i7d3980dgi_18440_160442_...</td>\n",
              "      <td>1064.42</td>\n",
              "      <td>74.31</td>\n",
              "      <td>990.11</td>\n",
              "      <td>0.338492</td>\n",
              "      <td>13</td>\n",
              "    </tr>\n",
              "  </tbody>\n",
              "</table>\n",
              "</div>"
            ],
            "text/plain": [
              "                                                 name  ...  num_peaks1\n",
              "0   f2i2650h5edh4f179g21985f69838257_16838_165885_...  ...          14\n",
              "1   f2i2650h5edh4f179g21985f69838257_16838_165883_...  ...           0\n",
              "2   f2i2650h5edh4f179g21985f69838257_16838_165884_...  ...           0\n",
              "3   f2i2650h5edh4f179g21985f69838257_16838_165884_...  ...           0\n",
              "4   ge5e1f4e1gg14621d76087h68g63gd6e_16536_155394_...  ...           0\n",
              "5   d7h8e83ief014e59dii5id3ie14585i2_13599_184341_...  ...           0\n",
              "6   f2i2650h5edh4f179g21985f69838257_16838_165880_...  ...           0\n",
              "7   eid906e5eg02401geg5h28i7d3980dgi_18440_160457_...  ...          22\n",
              "8   9g79i0fh02064f90e83dg5g06d8e1h1i_6381_97647_wr...  ...          18\n",
              "9   f2i2650h5edh4f179g21985f69838257_16838_165881_...  ...          14\n",
              "10  9g79i0fh02064f90e83dg5g06d8e1h1i_6381_96786_wr...  ...          26\n",
              "11  d7h8e83ief014e59dii5id3ie14585i2_13599_184340_...  ...           0\n",
              "12  9g79i0fh02064f90e83dg5g06d8e1h1i_6381_97655_wr...  ...          24\n",
              "13  d7h8e83ief014e59dii5id3ie14585i2_13599_184341_...  ...           0\n",
              "14  ge5e1f4e1gg14621d76087h68g63gd6e_16536_155156_...  ...           0\n",
              "15  ge5e1f4e1gg14621d76087h68g63gd6e_16536_155393_...  ...           0\n",
              "16  f2i2650h5edh4f179g21985f69838257_16838_165881_...  ...          15\n",
              "17  f2i2650h5edh4f179g21985f69838257_16838_165883_...  ...           0\n",
              "18  9g79i0fh02064f90e83dg5g06d8e1h1i_6381_97655_re...  ...          16\n",
              "19  eid906e5eg02401geg5h28i7d3980dgi_18440_160442_...  ...          13\n",
              "\n",
              "[20 rows x 6 columns]"
            ]
          },
          "metadata": {
            "tags": []
          },
          "execution_count": 38
        }
      ]
    },
    {
      "cell_type": "code",
      "metadata": {
        "id": "Y3aMiA8X74dE",
        "colab_type": "code",
        "colab": {}
      },
      "source": [
        "common_df.to_csv('/content/drive/My Drive/common_df.csv')"
      ],
      "execution_count": 42,
      "outputs": []
    },
    {
      "cell_type": "code",
      "metadata": {
        "id": "PdOR1OYZ9yBq",
        "colab_type": "code",
        "colab": {}
      },
      "source": [
        "#проверка на стационарность"
      ],
      "execution_count": null,
      "outputs": []
    },
    {
      "cell_type": "code",
      "metadata": {
        "id": "zIdWnFmc1lwS",
        "colab_type": "code",
        "colab": {}
      },
      "source": [
        "# "
      ],
      "execution_count": null,
      "outputs": []
    }
  ]
}