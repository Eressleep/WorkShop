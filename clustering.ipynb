{
  "nbformat": 4,
  "nbformat_minor": 0,
  "metadata": {
    "colab": {
      "name": "clustering.ipynb",
      "provenance": [],
      "collapsed_sections": []
    },
    "kernelspec": {
      "name": "python3",
      "display_name": "Python 3"
    }
  },
  "cells": [
    {
      "cell_type": "code",
      "metadata": {
        "id": "XI_NxyDq_h0Y",
        "colab_type": "code",
        "colab": {}
      },
      "source": [
        "import numpy as np\n",
        "import pandas as pd\n",
        "import matplotlib.pyplot as plt\n",
        "import datetime\n",
        "import time\n",
        "import os\n",
        "import json\n",
        "from pandas.io.json import json_normalize\n"
      ],
      "execution_count": 25,
      "outputs": []
    },
    {
      "cell_type": "code",
      "metadata": {
        "id": "ku1sPCxDA3cR",
        "colab_type": "code",
        "colab": {}
      },
      "source": [
        "data_folder = '/content/drive/My Drive/flink_metric_data_new/'\n",
        "folder = []\n",
        "for i in os.walk('/content/drive/My Drive/flink_metric_data_new'):\n",
        "    folder.append(i)\n",
        "    "
      ],
      "execution_count": 15,
      "outputs": []
    },
    {
      "cell_type": "code",
      "metadata": {
        "id": "pi96SimXI2y6",
        "colab_type": "code",
        "colab": {}
      },
      "source": [
        "common_df = pd.DataFrame(columns = ['name', 'max', 'min', 'range', 'coef_var'])"
      ],
      "execution_count": 31,
      "outputs": []
    },
    {
      "cell_type": "code",
      "metadata": {
        "id": "4JokOFSnNHho",
        "colab_type": "code",
        "colab": {
          "base_uri": "https://localhost:8080/",
          "height": 47
        },
        "outputId": "67af6e9e-88c3-431d-9782-da22bedd35c1"
      },
      "source": [
        "common_df.head()"
      ],
      "execution_count": 17,
      "outputs": [
        {
          "output_type": "execute_result",
          "data": {
            "text/html": [
              "<div>\n",
              "<style scoped>\n",
              "    .dataframe tbody tr th:only-of-type {\n",
              "        vertical-align: middle;\n",
              "    }\n",
              "\n",
              "    .dataframe tbody tr th {\n",
              "        vertical-align: top;\n",
              "    }\n",
              "\n",
              "    .dataframe thead th {\n",
              "        text-align: right;\n",
              "    }\n",
              "</style>\n",
              "<table border=\"1\" class=\"dataframe\">\n",
              "  <thead>\n",
              "    <tr style=\"text-align: right;\">\n",
              "      <th></th>\n",
              "      <th>name</th>\n",
              "      <th>max</th>\n",
              "      <th>min</th>\n",
              "      <th>range</th>\n",
              "    </tr>\n",
              "  </thead>\n",
              "  <tbody>\n",
              "  </tbody>\n",
              "</table>\n",
              "</div>"
            ],
            "text/plain": [
              "Empty DataFrame\n",
              "Columns: [name, max, min, range]\n",
              "Index: []"
            ]
          },
          "metadata": {
            "tags": []
          },
          "execution_count": 17
        }
      ]
    },
    {
      "cell_type": "code",
      "metadata": {
        "id": "UoGfVk5JnmLS",
        "colab_type": "code",
        "colab": {}
      },
      "source": [
        "row_list=[]\n"
      ],
      "execution_count": 32,
      "outputs": []
    },
    {
      "cell_type": "code",
      "metadata": {
        "id": "Ut4Wf6db0P50",
        "colab_type": "code",
        "colab": {
          "base_uri": "https://localhost:8080/",
          "height": 34
        },
        "outputId": "e6978ad7-c7ff-48fd-8c6a-13a6074ee7c6"
      },
      "source": [
        "print(row_list)"
      ],
      "execution_count": 166,
      "outputs": [
        {
          "output_type": "stream",
          "text": [
            "[]\n"
          ],
          "name": "stdout"
        }
      ]
    },
    {
      "cell_type": "code",
      "metadata": {
        "id": "U65BNL_Pqx1y",
        "colab_type": "code",
        "colab": {}
      },
      "source": [
        "dict1={}"
      ],
      "execution_count": 33,
      "outputs": []
    },
    {
      "cell_type": "code",
      "metadata": {
        "id": "qSTKiLroq9eV",
        "colab_type": "code",
        "colab": {
          "base_uri": "https://localhost:8080/",
          "height": 34
        },
        "outputId": "e998d0f4-d69e-4869-9d0c-cc59f0073dfe"
      },
      "source": [
        "print(dict1)"
      ],
      "execution_count": 20,
      "outputs": [
        {
          "output_type": "stream",
          "text": [
            "{}\n"
          ],
          "name": "stdout"
        }
      ]
    },
    {
      "cell_type": "code",
      "metadata": {
        "id": "KZpAdq8MCZ8l",
        "colab_type": "code",
        "colab": {}
      },
      "source": [
        " \n",
        "for address, dirs, files in folder:\n",
        "  for file in files:\n",
        "    with open(address+'/'+file) as f:\n",
        "      data = json.load(f)\n",
        "      df = pd.DataFrame(data['datapoints'])\n",
        "      df.drop('unit',axis=1,inplace=True)\n",
        "      df = df.set_index(['timestamp'])\n",
        "      df.index = pd.to_datetime(df.index, unit='ms')\n",
        "      df_mean=pd.DataFrame()\n",
        "      df_mean['average'] = df.average.resample('30T').mean()\n",
        "      dict1 ={}\n",
        "      coef_variation = -1\n",
        "      if (df_mean['average'].mean()!=0):\n",
        "        coef_variation=df_mean['average'].std()/df_mean['average'].mean()\n",
        "      dict1.update({'name':file,'max': df_mean['average'].max(), \n",
        "                    'min': df_mean['average'].min(),\n",
        "                    'range':df_mean['average'].max()-df_mean['average'].min(),\n",
        "                    'coef_var': coef_variation})\n",
        "      #print(dict1)\n",
        "      row_list.append(dict1)\n",
        "      \n",
        "common_df = pd.DataFrame(row_list) \n",
        "\n",
        "\n",
        "      "
      ],
      "execution_count": 34,
      "outputs": []
    },
    {
      "cell_type": "code",
      "metadata": {
        "id": "QpK_ZcBvnxdo",
        "colab_type": "code",
        "colab": {
          "base_uri": "https://localhost:8080/",
          "height": 639
        },
        "outputId": "69c35715-3cb3-4164-c490-7fc34e85a0ea"
      },
      "source": [
        "common_df.head(20)"
      ],
      "execution_count": 35,
      "outputs": [
        {
          "output_type": "execute_result",
          "data": {
            "text/html": [
              "<div>\n",
              "<style scoped>\n",
              "    .dataframe tbody tr th:only-of-type {\n",
              "        vertical-align: middle;\n",
              "    }\n",
              "\n",
              "    .dataframe tbody tr th {\n",
              "        vertical-align: top;\n",
              "    }\n",
              "\n",
              "    .dataframe thead th {\n",
              "        text-align: right;\n",
              "    }\n",
              "</style>\n",
              "<table border=\"1\" class=\"dataframe\">\n",
              "  <thead>\n",
              "    <tr style=\"text-align: right;\">\n",
              "      <th></th>\n",
              "      <th>name</th>\n",
              "      <th>max</th>\n",
              "      <th>min</th>\n",
              "      <th>range</th>\n",
              "      <th>coef_var</th>\n",
              "    </tr>\n",
              "  </thead>\n",
              "  <tbody>\n",
              "    <tr>\n",
              "      <th>0</th>\n",
              "      <td>f2i2650h5edh4f179g21985f69838257_16838_165885_...</td>\n",
              "      <td>44.981667</td>\n",
              "      <td>0.000000</td>\n",
              "      <td>44.981667</td>\n",
              "      <td>0.897736</td>\n",
              "    </tr>\n",
              "    <tr>\n",
              "      <th>1</th>\n",
              "      <td>f2i2650h5edh4f179g21985f69838257_16838_165883_...</td>\n",
              "      <td>0.000000</td>\n",
              "      <td>0.000000</td>\n",
              "      <td>0.000000</td>\n",
              "      <td>-1.000000</td>\n",
              "    </tr>\n",
              "    <tr>\n",
              "      <th>2</th>\n",
              "      <td>f2i2650h5edh4f179g21985f69838257_16838_165884_...</td>\n",
              "      <td>0.000000</td>\n",
              "      <td>0.000000</td>\n",
              "      <td>0.000000</td>\n",
              "      <td>-1.000000</td>\n",
              "    </tr>\n",
              "    <tr>\n",
              "      <th>3</th>\n",
              "      <td>f2i2650h5edh4f179g21985f69838257_16838_165884_...</td>\n",
              "      <td>0.000000</td>\n",
              "      <td>0.000000</td>\n",
              "      <td>0.000000</td>\n",
              "      <td>-1.000000</td>\n",
              "    </tr>\n",
              "    <tr>\n",
              "      <th>4</th>\n",
              "      <td>ge5e1f4e1gg14621d76087h68g63gd6e_16536_155394_...</td>\n",
              "      <td>0.000000</td>\n",
              "      <td>0.000000</td>\n",
              "      <td>0.000000</td>\n",
              "      <td>-1.000000</td>\n",
              "    </tr>\n",
              "    <tr>\n",
              "      <th>5</th>\n",
              "      <td>d7h8e83ief014e59dii5id3ie14585i2_13599_184341_...</td>\n",
              "      <td>0.000000</td>\n",
              "      <td>0.000000</td>\n",
              "      <td>0.000000</td>\n",
              "      <td>-1.000000</td>\n",
              "    </tr>\n",
              "    <tr>\n",
              "      <th>6</th>\n",
              "      <td>f2i2650h5edh4f179g21985f69838257_16838_165880_...</td>\n",
              "      <td>0.000000</td>\n",
              "      <td>0.000000</td>\n",
              "      <td>0.000000</td>\n",
              "      <td>-1.000000</td>\n",
              "    </tr>\n",
              "    <tr>\n",
              "      <th>7</th>\n",
              "      <td>eid906e5eg02401geg5h28i7d3980dgi_18440_160457_...</td>\n",
              "      <td>2.445000</td>\n",
              "      <td>0.000000</td>\n",
              "      <td>2.445000</td>\n",
              "      <td>0.813553</td>\n",
              "    </tr>\n",
              "    <tr>\n",
              "      <th>8</th>\n",
              "      <td>9g79i0fh02064f90e83dg5g06d8e1h1i_6381_97647_wr...</td>\n",
              "      <td>16.250000</td>\n",
              "      <td>15.175000</td>\n",
              "      <td>1.075000</td>\n",
              "      <td>0.008330</td>\n",
              "    </tr>\n",
              "    <tr>\n",
              "      <th>9</th>\n",
              "      <td>f2i2650h5edh4f179g21985f69838257_16838_165881_...</td>\n",
              "      <td>35.856667</td>\n",
              "      <td>2.988333</td>\n",
              "      <td>32.868333</td>\n",
              "      <td>0.604574</td>\n",
              "    </tr>\n",
              "    <tr>\n",
              "      <th>10</th>\n",
              "      <td>9g79i0fh02064f90e83dg5g06d8e1h1i_6381_96786_wr...</td>\n",
              "      <td>20012.593333</td>\n",
              "      <td>18588.391667</td>\n",
              "      <td>1424.201667</td>\n",
              "      <td>0.011543</td>\n",
              "    </tr>\n",
              "    <tr>\n",
              "      <th>11</th>\n",
              "      <td>d7h8e83ief014e59dii5id3ie14585i2_13599_184340_...</td>\n",
              "      <td>0.000000</td>\n",
              "      <td>0.000000</td>\n",
              "      <td>0.000000</td>\n",
              "      <td>-1.000000</td>\n",
              "    </tr>\n",
              "    <tr>\n",
              "      <th>12</th>\n",
              "      <td>9g79i0fh02064f90e83dg5g06d8e1h1i_6381_97655_wr...</td>\n",
              "      <td>53.190000</td>\n",
              "      <td>52.863333</td>\n",
              "      <td>0.326667</td>\n",
              "      <td>0.000728</td>\n",
              "    </tr>\n",
              "    <tr>\n",
              "      <th>13</th>\n",
              "      <td>d7h8e83ief014e59dii5id3ie14585i2_13599_184341_...</td>\n",
              "      <td>0.000000</td>\n",
              "      <td>0.000000</td>\n",
              "      <td>0.000000</td>\n",
              "      <td>-1.000000</td>\n",
              "    </tr>\n",
              "    <tr>\n",
              "      <th>14</th>\n",
              "      <td>ge5e1f4e1gg14621d76087h68g63gd6e_16536_155156_...</td>\n",
              "      <td>0.000000</td>\n",
              "      <td>0.000000</td>\n",
              "      <td>0.000000</td>\n",
              "      <td>-1.000000</td>\n",
              "    </tr>\n",
              "    <tr>\n",
              "      <th>15</th>\n",
              "      <td>ge5e1f4e1gg14621d76087h68g63gd6e_16536_155393_...</td>\n",
              "      <td>0.000000</td>\n",
              "      <td>0.000000</td>\n",
              "      <td>0.000000</td>\n",
              "      <td>-1.000000</td>\n",
              "    </tr>\n",
              "    <tr>\n",
              "      <th>16</th>\n",
              "      <td>f2i2650h5edh4f179g21985f69838257_16838_165881_...</td>\n",
              "      <td>28.318333</td>\n",
              "      <td>2.000000</td>\n",
              "      <td>26.318333</td>\n",
              "      <td>0.592362</td>\n",
              "    </tr>\n",
              "    <tr>\n",
              "      <th>17</th>\n",
              "      <td>f2i2650h5edh4f179g21985f69838257_16838_165883_...</td>\n",
              "      <td>0.000000</td>\n",
              "      <td>0.000000</td>\n",
              "      <td>0.000000</td>\n",
              "      <td>-1.000000</td>\n",
              "    </tr>\n",
              "    <tr>\n",
              "      <th>18</th>\n",
              "      <td>9g79i0fh02064f90e83dg5g06d8e1h1i_6381_97655_re...</td>\n",
              "      <td>126.073333</td>\n",
              "      <td>118.118333</td>\n",
              "      <td>7.955000</td>\n",
              "      <td>0.018298</td>\n",
              "    </tr>\n",
              "    <tr>\n",
              "      <th>19</th>\n",
              "      <td>eid906e5eg02401geg5h28i7d3980dgi_18440_160442_...</td>\n",
              "      <td>177.403333</td>\n",
              "      <td>51.931667</td>\n",
              "      <td>125.471667</td>\n",
              "      <td>0.335045</td>\n",
              "    </tr>\n",
              "  </tbody>\n",
              "</table>\n",
              "</div>"
            ],
            "text/plain": [
              "                                                 name  ...  coef_var\n",
              "0   f2i2650h5edh4f179g21985f69838257_16838_165885_...  ...  0.897736\n",
              "1   f2i2650h5edh4f179g21985f69838257_16838_165883_...  ... -1.000000\n",
              "2   f2i2650h5edh4f179g21985f69838257_16838_165884_...  ... -1.000000\n",
              "3   f2i2650h5edh4f179g21985f69838257_16838_165884_...  ... -1.000000\n",
              "4   ge5e1f4e1gg14621d76087h68g63gd6e_16536_155394_...  ... -1.000000\n",
              "5   d7h8e83ief014e59dii5id3ie14585i2_13599_184341_...  ... -1.000000\n",
              "6   f2i2650h5edh4f179g21985f69838257_16838_165880_...  ... -1.000000\n",
              "7   eid906e5eg02401geg5h28i7d3980dgi_18440_160457_...  ...  0.813553\n",
              "8   9g79i0fh02064f90e83dg5g06d8e1h1i_6381_97647_wr...  ...  0.008330\n",
              "9   f2i2650h5edh4f179g21985f69838257_16838_165881_...  ...  0.604574\n",
              "10  9g79i0fh02064f90e83dg5g06d8e1h1i_6381_96786_wr...  ...  0.011543\n",
              "11  d7h8e83ief014e59dii5id3ie14585i2_13599_184340_...  ... -1.000000\n",
              "12  9g79i0fh02064f90e83dg5g06d8e1h1i_6381_97655_wr...  ...  0.000728\n",
              "13  d7h8e83ief014e59dii5id3ie14585i2_13599_184341_...  ... -1.000000\n",
              "14  ge5e1f4e1gg14621d76087h68g63gd6e_16536_155156_...  ... -1.000000\n",
              "15  ge5e1f4e1gg14621d76087h68g63gd6e_16536_155393_...  ... -1.000000\n",
              "16  f2i2650h5edh4f179g21985f69838257_16838_165881_...  ...  0.592362\n",
              "17  f2i2650h5edh4f179g21985f69838257_16838_165883_...  ... -1.000000\n",
              "18  9g79i0fh02064f90e83dg5g06d8e1h1i_6381_97655_re...  ...  0.018298\n",
              "19  eid906e5eg02401geg5h28i7d3980dgi_18440_160442_...  ...  0.335045\n",
              "\n",
              "[20 rows x 5 columns]"
            ]
          },
          "metadata": {
            "tags": []
          },
          "execution_count": 35
        }
      ]
    },
    {
      "cell_type": "code",
      "metadata": {
        "id": "Y3aMiA8X74dE",
        "colab_type": "code",
        "colab": {}
      },
      "source": [
        "#проверка на нормальность(однородность)"
      ],
      "execution_count": 201,
      "outputs": []
    },
    {
      "cell_type": "code",
      "metadata": {
        "id": "PdOR1OYZ9yBq",
        "colab_type": "code",
        "colab": {}
      },
      "source": [
        "#проверка на стационарность"
      ],
      "execution_count": 23,
      "outputs": []
    },
    {
      "cell_type": "code",
      "metadata": {
        "id": "zIdWnFmc1lwS",
        "colab_type": "code",
        "colab": {}
      },
      "source": [
        "# "
      ],
      "execution_count": null,
      "outputs": []
    }
  ]
}