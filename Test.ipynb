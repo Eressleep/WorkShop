{
 "cells": [
  {
   "cell_type": "code",
   "execution_count": 65,
   "metadata": {},
   "outputs": [],
   "source": [
    "import numpy as np\n",
    "import matplotlib.pyplot as plt\n",
    "import json,os\n",
    "import pandas as pd\n",
    "from sklearn.metrics import mean_absolute_error\n",
    "from sklearn.metrics import mean_squared_error\n",
    "from sklearn.metrics import mean_squared_error\n",
    "from sklearn.linear_model import LinearRegression"
   ]
  },
  {
   "cell_type": "code",
   "execution_count": 84,
   "metadata": {},
   "outputs": [],
   "source": [
    "from sklearn.datasets import load_boston\n",
    "from sklearn.ensemble import RandomForestRegressor\n",
    "from sklearn.model_selection import train_test_split"
   ]
  },
  {
   "cell_type": "code",
   "execution_count": 96,
   "metadata": {},
   "outputs": [
    {
     "data": {
      "text/html": [
       "<div>\n",
       "<style scoped>\n",
       "    .dataframe tbody tr th:only-of-type {\n",
       "        vertical-align: middle;\n",
       "    }\n",
       "\n",
       "    .dataframe tbody tr th {\n",
       "        vertical-align: top;\n",
       "    }\n",
       "\n",
       "    .dataframe thead th {\n",
       "        text-align: right;\n",
       "    }\n",
       "</style>\n",
       "<table border=\"1\" class=\"dataframe\">\n",
       "  <thead>\n",
       "    <tr style=\"text-align: right;\">\n",
       "      <th></th>\n",
       "      <th>average</th>\n",
       "      <th>timestamp</th>\n",
       "    </tr>\n",
       "  </thead>\n",
       "  <tbody>\n",
       "    <tr>\n",
       "      <th>0</th>\n",
       "      <td>50.22</td>\n",
       "      <td>1541174400000</td>\n",
       "    </tr>\n",
       "    <tr>\n",
       "      <th>1</th>\n",
       "      <td>54.04</td>\n",
       "      <td>1541174700000</td>\n",
       "    </tr>\n",
       "    <tr>\n",
       "      <th>2</th>\n",
       "      <td>60.96</td>\n",
       "      <td>1541175000000</td>\n",
       "    </tr>\n",
       "    <tr>\n",
       "      <th>3</th>\n",
       "      <td>33.19</td>\n",
       "      <td>1541175300000</td>\n",
       "    </tr>\n",
       "    <tr>\n",
       "      <th>4</th>\n",
       "      <td>33.30</td>\n",
       "      <td>1541175600000</td>\n",
       "    </tr>\n",
       "  </tbody>\n",
       "</table>\n",
       "</div>"
      ],
      "text/plain": [
       "   average      timestamp\n",
       "0    50.22  1541174400000\n",
       "1    54.04  1541174700000\n",
       "2    60.96  1541175000000\n",
       "3    33.19  1541175300000\n",
       "4    33.30  1541175600000"
      ]
     },
     "execution_count": 96,
     "metadata": {},
     "output_type": "execute_result"
    }
   ],
   "source": [
    "data_folfer = 'data/'\n",
    "with open(f\"flink_metric_data_new/1dh1e3d93h944idh991i576e48917264_13604_129570_read_records_per_second.json\") as f:\n",
    "    data = json.load(f)\n",
    "df = pd.DataFrame(data['datapoints'])\n",
    "df.drop('unit',axis=1,inplace=True)\n",
    "df.head()"
   ]
  },
  {
   "cell_type": "code",
   "execution_count": 4,
   "metadata": {},
   "outputs": [],
   "source": [
    "def L(a,b):\n",
    "    S=0\n",
    "    l=len(a)\n",
    "    for i in range(l):\n",
    "        S+=abs(a[i]-b[i])\n",
    "    return S/l"
   ]
  },
  {
   "cell_type": "code",
   "execution_count": 5,
   "metadata": {},
   "outputs": [],
   "source": [
    "def MSE(a,b):\n",
    "    S=0\n",
    "    l=len(a)\n",
    "    for i in range(l):\n",
    "        S+=(a[i]-b[i])**2\n",
    "    return S/l"
   ]
  },
  {
   "cell_type": "code",
   "execution_count": 6,
   "metadata": {},
   "outputs": [],
   "source": [
    "def RMSE(a,b):\n",
    "    S=0\n",
    "    l=len(a)\n",
    "    for i in range(l):\n",
    "        S+=(a[i]-b[i])**2\n",
    "    return np.sqrt(S/l)"
   ]
  },
  {
   "cell_type": "code",
   "execution_count": 97,
   "metadata": {},
   "outputs": [],
   "source": [
    "learnX=df['average'][:1000]\n",
    "learnY=df['average'][1:1001]\n",
    "testX=df['average'][1000:2016]\n",
    "testY=df['average'][1001:2017]\n",
    "x = np.array(learnX).reshape((-1, 1))\n",
    "y = np.array(learnY)\n",
    "x1 = np.array(testX).reshape((-1, 1))\n",
    "y1 = np.array(testY)"
   ]
  },
  {
   "cell_type": "code",
   "execution_count": 17,
   "metadata": {},
   "outputs": [
    {
     "name": "stdout",
     "output_type": "stream",
     "text": [
      "intercept: 1.9107399545186894\n",
      "slope: [0.96520858]\n"
     ]
    },
    {
     "data": {
      "image/png": "[encoded data removed]",
      "text/plain": [
       "<Figure size 432x288 with 1 Axes>"
      ]
     },
     "metadata": {
      "needs_background": "light"
     },
     "output_type": "display_data"
    }
   ],
   "source": [
    "modelLR = LinearRegression().fit(x, y)\n",
    "y_pred = model.predict(x)\n",
    "plt.plot(y_pred)\n",
    "plt.plot(x)\n",
    "print('intercept:', modelLR.intercept_)\n",
    "print('slope:', modelLR.coef_)"
   ]
  },
  {
   "cell_type": "code",
   "execution_count": 12,
   "metadata": {},
   "outputs": [],
   "source": [
    "def misL(pred,test):\n",
    "    return L(pred,test)\n",
    "def misMSE(pred,test):\n",
    "    return MSE(pred,test)\n",
    "def misRMSE(pred,test):\n",
    "    return RMSE(pred,test)"
   ]
  },
  {
   "cell_type": "code",
   "execution_count": 120,
   "metadata": {},
   "outputs": [],
   "source": [
    "def test(model):\n",
    "    files=os.listdir(path=\"flink_metric_data_new\")\n",
    "    res=[[],[],[]]\n",
    "    score1=[]\n",
    "    score2=[]\n",
    "    score3=[]\n",
    "    for i in files:\n",
    "        name=f\"flink_metric_data_new/\"+i\n",
    "        with open(name) as f:\n",
    "            data = json.load(f)\n",
    "        df = pd.DataFrame(data['datapoints'])\n",
    "        df.drop('unit',axis=1,inplace=True)\n",
    "        df.head()\n",
    "        x = np.array(df['average']).reshape((-1, 1))\n",
    "        y_pred = model.predict(x)\n",
    "        score1.append(mean_absolute_error(model.predict(x), x))\n",
    "        score2.append(mean_squared_error(model.predict(x), x))\n",
    "        score3.append(np.sqrt(mean_squared_error(model.predict(x), x)))\n",
    "    res[0].append(np.min(score1))\n",
    "    res[0].append(np.max(score1))\n",
    "    res[0].append(np.mean(score1))\n",
    "    res[1].append(np.min(score2))\n",
    "    res[1].append(np.max(score2))\n",
    "    res[1].append(np.mean(score2))\n",
    "    res[2].append(np.min(score3))\n",
    "    res[2].append(np.max(score3))\n",
    "    res[2].append(np.mean(score3))\n",
    "    return res"
   ]
  },
  {
   "cell_type": "code",
   "execution_count": 33,
   "metadata": {},
   "outputs": [],
   "source": [
    "class SW:\n",
    "    def predict(dt):\n",
    "        S=0\n",
    "        k=10\n",
    "        pred=[]\n",
    "        for i in range(k+1):\n",
    "            pred.append(float(dt[i]))\n",
    "        for i in range(len(dt)):\n",
    "            S+=dt[i]\n",
    "            if(i<k+1):\n",
    "                continue\n",
    "            S-=dt[i-k]\n",
    "            pre=S/k\n",
    "            pred.append(float(pre))\n",
    "        return pred\n",
    "        "
   ]
  },
  {
   "cell_type": "code",
   "execution_count": 71,
   "metadata": {},
   "outputs": [
    {
     "data": {
      "text/plain": [
       "[[0.06763451347744061, 4804.506569098072, 42.864868497728466],\n",
       " [0.004579801451538541, 30653306.307776764, 100036.23555183334],\n",
       " [0.0676742303357677, 5536.542811879699, 45.93931339471247]]"
      ]
     },
     "execution_count": 71,
     "metadata": {},
     "output_type": "execute_result"
    }
   ],
   "source": [
    "test(modelLR)\n"
   ]
  },
  {
   "cell_type": "code",
   "execution_count": 45,
   "metadata": {},
   "outputs": [],
   "source": [
    "def exponential_smoothing(series, alpha):\n",
    "    result = [series[0]] # first value is same as series\n",
    "    for n in range(1, len(series)):\n",
    "        result.append(alpha * series[n] + (1 - alpha) * result[n-1])\n",
    "    return result"
   ]
  },
  {
   "cell_type": "code",
   "execution_count": 80,
   "metadata": {},
   "outputs": [],
   "source": [
    "class ES:\n",
    "    def predict(series):\n",
    "        alpha=0.9\n",
    "        result = [series[0]] # first value is same as series\n",
    "        for n in range(1, len(series)):\n",
    "            result.append(alpha * series[n] + (1 - alpha) * result[n-1])\n",
    "        return result"
   ]
  },
  {
   "cell_type": "code",
   "execution_count": 128,
   "metadata": {},
   "outputs": [],
   "source": [
    "learnX=df['average'][:len(df['average'])-1]\n",
    "learnY=df['average'][1:len(df['average'])]\n",
    "x = np.array(learnX).reshape((-1, 1))\n",
    "y = np.array(learnY)\n",
    "modelLR2 = LinearRegression().fit(x, y)\n"
   ]
  },
  {
   "cell_type": "code",
   "execution_count": 75,
   "metadata": {},
   "outputs": [
    {
     "data": {
      "text/plain": [
       "[[0.06763451347744061, 4804.506569098072, 42.864868497728466],\n",
       " [0.004579801451538541, 30653306.307776764, 100036.23555183334],\n",
       " [0.0676742303357677, 5536.542811879699, 45.93931339471247]]"
      ]
     },
     "execution_count": 75,
     "metadata": {},
     "output_type": "execute_result"
    }
   ],
   "source": [
    "test(modelLR)"
   ]
  },
  {
   "cell_type": "code",
   "execution_count": 74,
   "metadata": {},
   "outputs": [
    {
     "data": {
      "text/plain": [
       "[[0.0, 25975.427433316818, 150.21722406675022],\n",
       " [0.0, 813969403.8832685, 1619800.3689281482],\n",
       " [0.0, 28530.149033667323, 187.2212308381759]]"
      ]
     },
     "execution_count": 74,
     "metadata": {},
     "output_type": "execute_result"
    }
   ],
   "source": [
    "test(SW)"
   ]
  },
  {
   "cell_type": "code",
   "execution_count": null,
   "metadata": {},
   "outputs": [],
   "source": [
    "альфа=0.5"
   ]
  },
  {
   "cell_type": "code",
   "execution_count": 76,
   "metadata": {},
   "outputs": [
    {
     "data": {
      "text/plain": [
       "[[0.0, 2117.814579812305, 17.326247303012998],\n",
       " [0.0, 13407821.61764579, 41657.27506289559],\n",
       " [0.0, 3661.669239246739, 40.47495863652502]]"
      ]
     },
     "execution_count": 76,
     "metadata": {},
     "output_type": "execute_result"
    }
   ],
   "source": [
    "test(ES)"
   ]
  },
  {
   "cell_type": "code",
   "execution_count": 79,
   "metadata": {},
   "outputs": [
    {
     "data": {
      "text/plain": [
       "[[0.02159088838724072, 5158.150184895164, 45.976126537059415],\n",
       " [0.0004720346263561252, 35331638.19445539, 115308.84306919246],\n",
       " [0.02172635787139955, 5944.042243663431, 49.27809701138182]]"
      ]
     },
     "execution_count": 79,
     "metadata": {},
     "output_type": "execute_result"
    }
   ],
   "source": [
    "test(modelLR2)"
   ]
  },
  {
   "cell_type": "code",
   "execution_count": null,
   "metadata": {},
   "outputs": [],
   "source": [
    "альфа=0.9"
   ]
  },
  {
   "cell_type": "code",
   "execution_count": 81,
   "metadata": {},
   "outputs": [
    {
     "data": {
      "text/plain": [
       "[[0.0, 323.0989843482713, 3.139250637954453],\n",
       " [0.0, 331476.73020317964, 1296.0618992896946],\n",
       " [0.0, 575.7401585812645, 7.605511905210256]]"
      ]
     },
     "execution_count": 81,
     "metadata": {},
     "output_type": "execute_result"
    }
   ],
   "source": [
    "test(ES)"
   ]
  },
  {
   "cell_type": "code",
   "execution_count": 129,
   "metadata": {},
   "outputs": [
    {
     "data": {
      "text/plain": [
       "RandomForestRegressor(bootstrap=True, ccp_alpha=0.0, criterion='mse',\n",
       "                      max_depth=None, max_features='auto', max_leaf_nodes=None,\n",
       "                      max_samples=None, min_impurity_decrease=0.0,\n",
       "                      min_impurity_split=None, min_samples_leaf=1,\n",
       "                      min_samples_split=2, min_weight_fraction_leaf=0.0,\n",
       "                      n_estimators=10, n_jobs=None, oob_score=False,\n",
       "                      random_state=0, verbose=0, warm_start=False)"
      ]
     },
     "execution_count": 129,
     "metadata": {},
     "output_type": "execute_result"
    }
   ],
   "source": [
    "regressor = RandomForestRegressor(n_estimators=10, random_state=0)\n",
    "regressor.fit(x, y)"
   ]
  },
  {
   "cell_type": "code",
   "execution_count": 87,
   "metadata": {},
   "outputs": [
    {
     "data": {
      "text/plain": [
       "[[2.0365368274429256, 138065.6219623203, 1195.1560077232696],\n",
       " [7.018673104273741, 25316043829.108467, 82573468.04882276],\n",
       " [2.6492778458051056, 159110.16255760807, 1285.0483483016544]]"
      ]
     },
     "execution_count": 87,
     "metadata": {},
     "output_type": "execute_result"
    }
   ],
   "source": [
    "test(regressor)"
   ]
  },
  {
   "cell_type": "code",
   "execution_count": 121,
   "metadata": {},
   "outputs": [],
   "source": [
    "files=os.listdir(path=\"flink_metric_data_new\")\n",
    "for i in files:\n",
    "    name=f\"flink_metric_data_new/\"+i\n",
    "    with open(name) as f:\n",
    "        data = json.load(f)\n",
    "    df = pd.DataFrame(data['datapoints'])\n",
    "    df.drop('unit',axis=1,inplace=True)\n",
    "    df.head()\n",
    "    learnX=df['average'][:len(df['average'])-1]\n",
    "    learnY=df['average'][1:len(df['average'])]\n",
    "    x = np.array(learnX).reshape((-1, 1))\n",
    "    y = np.array(learnY)\n",
    "    modelLR2.fit(x, y)"
   ]
  },
  {
   "cell_type": "code",
   "execution_count": 122,
   "metadata": {},
   "outputs": [
    {
     "data": {
      "text/plain": [
       "[[0.0, 138149.49796232028, 1211.6867928028803],\n",
       " [0.0, 25339211648.507263, 82774395.51466416],\n",
       " [0.0, 159182.95024438787, 1300.7228726937783]]"
      ]
     },
     "execution_count": 122,
     "metadata": {},
     "output_type": "execute_result"
    }
   ],
   "source": [
    "test(modelLR2)"
   ]
  },
  {
   "cell_type": "code",
   "execution_count": 130,
   "metadata": {},
   "outputs": [],
   "source": [
    "files=os.listdir(path=\"flink_metric_data_new\")\n",
    "for i in files:\n",
    "    name=f\"flink_metric_data_new/\"+i\n",
    "    with open(name) as f:\n",
    "        data = json.load(f)\n",
    "    df = pd.DataFrame(data['datapoints'])\n",
    "    df.drop('unit',axis=1,inplace=True)\n",
    "    df.head()\n",
    "    learnX=df['average'][:len(df['average'])-1]\n",
    "    learnY=df['average'][1:len(df['average'])]\n",
    "    x = np.array(learnX).reshape((-1, 1))\n",
    "    y = np.array(learnY)\n",
    "    regressor.fit(x, y)"
   ]
  },
  {
   "cell_type": "code",
   "execution_count": 131,
   "metadata": {},
   "outputs": [
    {
     "data": {
      "text/plain": [
       "[[0.0, 138149.49796232028, 1211.6867928028803],\n",
       " [0.0, 25339211648.507263, 82774395.51466416],\n",
       " [0.0, 159182.95024438787, 1300.7228726937783]]"
      ]
     },
     "execution_count": 131,
     "metadata": {},
     "output_type": "execute_result"
    }
   ],
   "source": [
    "test(regressor)"
   ]
  },
  {
   "cell_type": "code",
   "execution_count": null,
   "metadata": {},
   "outputs": [],
   "source": []
  },
  {
   "cell_type": "code",
   "execution_count": null,
   "metadata": {},
   "outputs": [],
   "source": []
  },
  {
   "cell_type": "code",
   "execution_count": null,
   "metadata": {},
   "outputs": [],
   "source": []
  },
  {
   "cell_type": "code",
   "execution_count": 105,
   "metadata": {},
   "outputs": [
    {
     "data": {
      "text/plain": [
       "[<matplotlib.lines.Line2D at 0x1d29098c808>]"
      ]
     },
     "execution_count": 105,
     "metadata": {},
     "output_type": "execute_result"
    },
    {
     "data": {
      "image/png": "[encoded data removed]",
      "text/plain": [
       "<Figure size 432x288 with 1 Axes>"
      ]
     },
     "metadata": {
      "needs_background": "light"
     },
     "output_type": "display_data"
    }
   ],
   "source": [
    "i=\"10h4id8fd1ii4477diifdd5d3iig9596_15360_205827_read_records_per_second.json\"\n",
    "name=f\"flink_metric_data_new/\"+i\n",
    "with open(name) as f:\n",
    "    data = json.load(f)\n",
    "df = pd.DataFrame(data['datapoints'])\n",
    "df.drop('unit',axis=1,inplace=True)\n",
    "df.head()\n",
    "plt.plot(df[\"average\"])"
   ]
  },
  {
   "cell_type": "code",
   "execution_count": 106,
   "metadata": {},
   "outputs": [],
   "source": [
    "mean1=[]\n",
    "mean2=[]\n",
    "mean3=[]\n",
    "mean4=[]\n",
    "spread1=[]\n",
    "spread2=[]\n",
    "spread3=[]\n",
    "spread4=[]\n",
    "zero=[]\n",
    "period1=[]\n",
    "period2=[]"
   ]
  },
  {
   "cell_type": "code",
   "execution_count": 112,
   "metadata": {},
   "outputs": [],
   "source": [
    "files=os.listdir(path=\"flink_metric_data_new\")\n",
    "har1=[]\n",
    "har2=[]\n",
    "har3=[]\n",
    "for i in files:\n",
    "    name=f\"flink_metric_data_new/\"+i\n",
    "    with open(name) as f:\n",
    "        data = json.load(f)\n",
    "    df = pd.DataFrame(data['datapoints'])\n",
    "    df.drop('unit',axis=1,inplace=True)\n",
    "    df.head()\n",
    "    me=np.mean(df['average'])\n",
    "    ma=np.max(df['average'])\n",
    "    har1.append(me)\n",
    "    har2.append(np.min(df['average']))\n",
    "    har3.append(ma)\n",
    "    if(me<100):\n",
    "        mean1.append(i)\n",
    "    elif(me<1000):\n",
    "        mean2.append(i)\n",
    "    elif(me<10000):\n",
    "        mean3.append(i)\n",
    "    else:\n",
    "        mean4.append(i)\n",
    "    if(ma==0):\n",
    "        zero.append(i)\n",
    "    elif(ma<me*5):\n",
    "        spread1.append(i)\n",
    "    elif(ma<me*10):\n",
    "        spread2.append(i)\n",
    "    elif(ma<me*20):\n",
    "        spread3.append(i)\n",
    "    else:\n",
    "        spread4.append(i)\n",
    "    pa=me+(ma-me)/2\n",
    "    result = np.where(np.logical_and(df['average']>= pa*0.9,df['average']<= pa*1.1))\n",
    "    if(len(result)<7):\n",
    "        period1.append(i)\n",
    "    else:\n",
    "        period2.append(i)"
   ]
  },
  {
   "cell_type": "code",
   "execution_count": 113,
   "metadata": {},
   "outputs": [],
   "source": [
    "files1=spread1"
   ]
  },
  {
   "cell_type": "code",
   "execution_count": 114,
   "metadata": {},
   "outputs": [],
   "source": [
    "def test1(model):\n",
    "    res=[[],[],[]]\n",
    "    score1=[]\n",
    "    score2=[]\n",
    "    score3=[]\n",
    "    for i in files1:\n",
    "        name=f\"flink_metric_data_new/\"+i\n",
    "        with open(name) as f:\n",
    "            data = json.load(f)\n",
    "        df = pd.DataFrame(data['datapoints'])\n",
    "        df.drop('unit',axis=1,inplace=True)\n",
    "        df.head()\n",
    "        x = np.array(df['average']).reshape((-1, 1))\n",
    "        y_pred = model.predict(x)\n",
    "        score1.append(mean_absolute_error(model.predict(x), x))\n",
    "        score2.append(mean_squared_error(model.predict(x), x))\n",
    "        score3.append(np.sqrt(mean_squared_error(model.predict(x), x)))\n",
    "    res[0].append(np.min(score1))\n",
    "    res[0].append(np.max(score1))\n",
    "    res[0].append(np.mean(score1))\n",
    "    res[1].append(np.min(score2))\n",
    "    res[1].append(np.max(score2))\n",
    "    res[1].append(np.mean(score2))\n",
    "    res[2].append(np.min(score3))\n",
    "    res[2].append(np.max(score3))\n",
    "    res[2].append(np.mean(score3))\n",
    "    return res"
   ]
  },
  {
   "cell_type": "code",
   "execution_count": 116,
   "metadata": {
    "collapsed": true
   },
   "outputs": [
    {
     "name": "stdout",
     "output_type": "stream",
     "text": [
      "10h4id8fd1ii4477diifdd5d3iig9596_15360_129942_read_records_per_second.json\n",
      "10h4id8fd1ii4477diifdd5d3iig9596_15360_129942_write_records_per_second.json\n",
      "10h4id8fd1ii4477diifdd5d3iig9596_15360_130545_read_records_per_second.json\n",
      "10h4id8fd1ii4477diifdd5d3iig9596_15360_130545_write_records_per_second.json\n",
      "10h4id8fd1ii4477diifdd5d3iig9596_15360_149764_read_records_per_second.json\n",
      "10h4id8fd1ii4477diifdd5d3iig9596_15360_149764_write_records_per_second.json\n",
      "10h4id8fd1ii4477diifdd5d3iig9596_15360_149765_read_records_per_second.json\n",
      "10h4id8fd1ii4477diifdd5d3iig9596_15360_149765_write_records_per_second.json\n",
      "10h4id8fd1ii4477diifdd5d3iig9596_15360_154067_read_records_per_second.json\n",
      "10h4id8fd1ii4477diifdd5d3iig9596_15360_154067_write_records_per_second.json\n",
      "10h4id8fd1ii4477diifdd5d3iig9596_15360_154068_read_records_per_second.json\n",
      "10h4id8fd1ii4477diifdd5d3iig9596_15360_154068_write_records_per_second.json\n",
      "10h4id8fd1ii4477diifdd5d3iig9596_15360_155055_read_records_per_second.json\n",
      "10h4id8fd1ii4477diifdd5d3iig9596_15360_155055_write_records_per_second.json\n",
      "10h4id8fd1ii4477diifdd5d3iig9596_15360_187773_read_records_per_second.json\n",
      "10h4id8fd1ii4477diifdd5d3iig9596_15360_188470_read_records_per_second.json\n",
      "10h4id8fd1ii4477diifdd5d3iig9596_15360_191307_read_records_per_second.json\n",
      "10h4id8fd1ii4477diifdd5d3iig9596_15360_191307_write_records_per_second.json\n",
      "10h4id8fd1ii4477diifdd5d3iig9596_15360_191608_read_records_per_second.json\n",
      "10h4id8fd1ii4477diifdd5d3iig9596_8708_169862_read_records_per_second.json\n",
      "10h4id8fd1ii4477diifdd5d3iig9596_8708_169862_write_records_per_second.json\n",
      "10h4id8fd1ii4477diifdd5d3iig9596_8708_170171_read_records_per_second.json\n",
      "10h4id8fd1ii4477diifdd5d3iig9596_8708_170171_write_records_per_second.json\n",
      "10h4id8fd1ii4477diifdd5d3iig9596_8708_170172_read_records_per_second.json\n",
      "10h4id8fd1ii4477diifdd5d3iig9596_8708_170172_write_records_per_second.json\n",
      "10h4id8fd1ii4477diifdd5d3iig9596_8708_171064_read_records_per_second.json\n",
      "10h4id8fd1ii4477diifdd5d3iig9596_8708_171064_write_records_per_second.json\n",
      "10h4id8fd1ii4477diifdd5d3iig9596_8708_171148_read_records_per_second.json\n",
      "10h4id8fd1ii4477diifdd5d3iig9596_8708_171148_write_records_per_second.json\n",
      "10h4id8fd1ii4477diifdd5d3iig9596_8708_171149_read_records_per_second.json\n",
      "10h4id8fd1ii4477diifdd5d3iig9596_8708_171149_write_records_per_second.json\n",
      "1dh1e3d93h944idh991i576e48917264_13604_129570_read_records_per_second.json\n",
      "1dh1e3d93h944idh991i576e48917264_13604_129570_write_records_per_second.json\n",
      "1dh1e3d93h944idh991i576e48917264_13604_129571_read_records_per_second.json\n",
      "1dh1e3d93h944idh991i576e48917264_13604_129571_write_records_per_second.json\n",
      "1dh1e3d93h944idh991i576e48917264_13604_129572_read_records_per_second.json\n",
      "1dh1e3d93h944idh991i576e48917264_13604_129572_write_records_per_second.json\n",
      "1dh1e3d93h944idh991i576e48917264_13604_129575_read_records_per_second.json\n",
      "1dh1e3d93h944idh991i576e48917264_13604_129575_write_records_per_second.json\n",
      "1dh1e3d93h944idh991i576e48917264_13604_129985_read_records_per_second.json\n",
      "1dh1e3d93h944idh991i576e48917264_13604_129985_write_records_per_second.json\n",
      "1dh1e3d93h944idh991i576e48917264_13604_130578_read_records_per_second.json\n",
      "1dh1e3d93h944idh991i576e48917264_13604_130578_write_records_per_second.json\n",
      "1dh1e3d93h944idh991i576e48917264_13604_137718_read_records_per_second.json\n",
      "1dh1e3d93h944idh991i576e48917264_13604_137718_write_records_per_second.json\n",
      "1dh1e3d93h944idh991i576e48917264_13604_150343_read_records_per_second.json\n",
      "1dh1e3d93h944idh991i576e48917264_13604_150343_write_records_per_second.json\n",
      "6d6010eh7716405490hi5047ffehe0g4_15637_207288_read_records_per_second.json\n",
      "6d6010eh7716405490hi5047ffehe0g4_15637_207288_write_records_per_second.json\n",
      "6d6010eh7716405490hi5047ffehe0g4_15637_207291_read_records_per_second.json\n",
      "6d6010eh7716405490hi5047ffehe0g4_15637_207291_write_records_per_second.json\n",
      "797f8if3f4gg4i6985g5i42gf6ei70eg_15384_144649_read_records_per_second.json\n",
      "797f8if3f4gg4i6985g5i42gf6ei70eg_15384_144649_write_records_per_second.json\n",
      "797f8if3f4gg4i6985g5i42gf6ei70eg_15384_144872_read_records_per_second.json\n",
      "797f8if3f4gg4i6985g5i42gf6ei70eg_15384_144872_write_records_per_second.json\n",
      "797f8if3f4gg4i6985g5i42gf6ei70eg_15384_149533_read_records_per_second.json\n",
      "797f8if3f4gg4i6985g5i42gf6ei70eg_15384_153328_read_records_per_second.json\n",
      "797f8if3f4gg4i6985g5i42gf6ei70eg_15384_153328_write_records_per_second.json\n",
      "797f8if3f4gg4i6985g5i42gf6ei70eg_15384_171421_read_records_per_second.json\n",
      "797f8if3f4gg4i6985g5i42gf6ei70eg_15384_171421_write_records_per_second.json\n",
      "797f8if3f4gg4i6985g5i42gf6ei70eg_15384_175277_write_records_per_second.json\n",
      "797f8if3f4gg4i6985g5i42gf6ei70eg_15384_175499_read_records_per_second.json\n",
      "797f8if3f4gg4i6985g5i42gf6ei70eg_15384_192705_read_records_per_second.json\n",
      "797f8if3f4gg4i6985g5i42gf6ei70eg_15384_192705_write_records_per_second.json\n",
      "8080000000017000000_14788_162149_read_records_per_second.json\n",
      "8080000000017000000_14788_162149_write_records_per_second.json\n",
      "8080000000017000000_14788_189953_read_records_per_second.json\n",
      "8080000000017000000_14788_202530_read_records_per_second.json\n",
      "8080000000017000000_14788_202530_write_records_per_second.json\n",
      "8080000000017000000_14788_205052_read_records_per_second.json\n",
      "8080000000017000000_14788_205052_write_records_per_second.json\n",
      "8idd6682h905436fdg42856g0geefe11_10332_96477_read_records_per_second.json\n",
      "8idd6682h905436fdg42856g0geefe11_10332_96477_write_records_per_second.json\n",
      "8idd6682h905436fdg42856g0geefe11_10332_97264_read_records_per_second.json\n",
      "8idd6682h905436fdg42856g0geefe11_10332_97264_write_records_per_second.json\n",
      "9g79i0fh02064f90e83dg5g06d8e1h1i_11761_121796_read_records_per_second.json\n",
      "9g79i0fh02064f90e83dg5g06d8e1h1i_11761_128394_read_records_per_second.json\n",
      "9g79i0fh02064f90e83dg5g06d8e1h1i_11761_128394_write_records_per_second.json\n",
      "9g79i0fh02064f90e83dg5g06d8e1h1i_11761_128401_read_records_per_second.json\n",
      "9g79i0fh02064f90e83dg5g06d8e1h1i_11761_128401_write_records_per_second.json\n",
      "9g79i0fh02064f90e83dg5g06d8e1h1i_11761_128403_read_records_per_second.json\n",
      "9g79i0fh02064f90e83dg5g06d8e1h1i_11761_129067_read_records_per_second.json\n",
      "9g79i0fh02064f90e83dg5g06d8e1h1i_11761_129067_write_records_per_second.json\n",
      "9g79i0fh02064f90e83dg5g06d8e1h1i_11761_192343_read_records_per_second.json\n",
      "9g79i0fh02064f90e83dg5g06d8e1h1i_11761_192343_write_records_per_second.json\n",
      "9g79i0fh02064f90e83dg5g06d8e1h1i_11761_201181_read_records_per_second.json\n",
      "9g79i0fh02064f90e83dg5g06d8e1h1i_11761_201184_read_records_per_second.json\n",
      "9g79i0fh02064f90e83dg5g06d8e1h1i_11761_201184_write_records_per_second.json\n",
      "9g79i0fh02064f90e83dg5g06d8e1h1i_14027_130180_read_records_per_second.json\n",
      "9g79i0fh02064f90e83dg5g06d8e1h1i_14027_130180_write_records_per_second.json\n",
      "9g79i0fh02064f90e83dg5g06d8e1h1i_14027_137685_read_records_per_second.json\n",
      "9g79i0fh02064f90e83dg5g06d8e1h1i_14027_137685_write_records_per_second.json\n",
      "9g79i0fh02064f90e83dg5g06d8e1h1i_14027_137962_read_records_per_second.json\n",
      "9g79i0fh02064f90e83dg5g06d8e1h1i_14027_137962_write_records_per_second.json\n",
      "9g79i0fh02064f90e83dg5g06d8e1h1i_14027_169268_read_records_per_second.json\n",
      "9g79i0fh02064f90e83dg5g06d8e1h1i_14027_169268_write_records_per_second.json\n",
      "9g79i0fh02064f90e83dg5g06d8e1h1i_14027_169269_read_records_per_second.json\n",
      "9g79i0fh02064f90e83dg5g06d8e1h1i_14027_169269_write_records_per_second.json\n",
      "9g79i0fh02064f90e83dg5g06d8e1h1i_14027_169274_read_records_per_second.json\n",
      "9g79i0fh02064f90e83dg5g06d8e1h1i_14027_169274_write_records_per_second.json\n",
      "9g79i0fh02064f90e83dg5g06d8e1h1i_14027_174476_read_records_per_second.json\n",
      "9g79i0fh02064f90e83dg5g06d8e1h1i_14027_174476_write_records_per_second.json\n",
      "9g79i0fh02064f90e83dg5g06d8e1h1i_14027_205306_read_records_per_second.json\n",
      "9g79i0fh02064f90e83dg5g06d8e1h1i_14027_205306_write_records_per_second.json\n",
      "9g79i0fh02064f90e83dg5g06d8e1h1i_14027_205854_read_records_per_second.json\n",
      "9g79i0fh02064f90e83dg5g06d8e1h1i_14027_205854_write_records_per_second.json\n",
      "9g79i0fh02064f90e83dg5g06d8e1h1i_14047_173196_read_records_per_second.json\n",
      "9g79i0fh02064f90e83dg5g06d8e1h1i_14047_173196_write_records_per_second.json\n",
      "9g79i0fh02064f90e83dg5g06d8e1h1i_14047_176340_read_records_per_second.json\n",
      "9g79i0fh02064f90e83dg5g06d8e1h1i_14047_176344_read_records_per_second.json\n",
      "9g79i0fh02064f90e83dg5g06d8e1h1i_14047_176344_write_records_per_second.json\n",
      "9g79i0fh02064f90e83dg5g06d8e1h1i_19223_176492_read_records_per_second.json\n",
      "9g79i0fh02064f90e83dg5g06d8e1h1i_19223_176492_write_records_per_second.json\n",
      "9g79i0fh02064f90e83dg5g06d8e1h1i_19223_178043_read_records_per_second.json\n",
      "9g79i0fh02064f90e83dg5g06d8e1h1i_19223_178043_write_records_per_second.json\n",
      "9g79i0fh02064f90e83dg5g06d8e1h1i_19223_178941_read_records_per_second.json\n",
      "9g79i0fh02064f90e83dg5g06d8e1h1i_19223_178941_write_records_per_second.json\n",
      "9g79i0fh02064f90e83dg5g06d8e1h1i_6381_100720_read_records_per_second.json\n",
      "9g79i0fh02064f90e83dg5g06d8e1h1i_6381_100720_write_records_per_second.json\n",
      "9g79i0fh02064f90e83dg5g06d8e1h1i_6381_100729_read_records_per_second.json\n",
      "9g79i0fh02064f90e83dg5g06d8e1h1i_6381_100729_write_records_per_second.json\n",
      "9g79i0fh02064f90e83dg5g06d8e1h1i_6381_100732_read_records_per_second.json\n",
      "9g79i0fh02064f90e83dg5g06d8e1h1i_6381_103221_read_records_per_second.json\n",
      "9g79i0fh02064f90e83dg5g06d8e1h1i_6381_154902_read_records_per_second.json\n",
      "9g79i0fh02064f90e83dg5g06d8e1h1i_6381_154902_write_records_per_second.json\n",
      "9g79i0fh02064f90e83dg5g06d8e1h1i_6381_155183_read_records_per_second.json\n",
      "9g79i0fh02064f90e83dg5g06d8e1h1i_6381_155183_write_records_per_second.json\n",
      "9g79i0fh02064f90e83dg5g06d8e1h1i_6381_155184_read_records_per_second.json\n",
      "9g79i0fh02064f90e83dg5g06d8e1h1i_6381_155184_write_records_per_second.json\n",
      "9g79i0fh02064f90e83dg5g06d8e1h1i_6381_96786_read_records_per_second.json\n",
      "9g79i0fh02064f90e83dg5g06d8e1h1i_6381_96786_write_records_per_second.json\n",
      "9g79i0fh02064f90e83dg5g06d8e1h1i_6381_97647_read_records_per_second.json\n",
      "9g79i0fh02064f90e83dg5g06d8e1h1i_6381_97647_write_records_per_second.json\n",
      "9g79i0fh02064f90e83dg5g06d8e1h1i_6381_97655_read_records_per_second.json\n",
      "9g79i0fh02064f90e83dg5g06d8e1h1i_6381_97655_write_records_per_second.json\n",
      "9g79i0fh02064f90e83dg5g06d8e1h1i_6381_99921_read_records_per_second.json\n",
      "9g79i0fh02064f90e83dg5g06d8e1h1i_6381_99921_write_records_per_second.json\n",
      "eid906e5eg02401geg5h28i7d3980dgi_18440_160442_read_records_per_second.json\n",
      "eid906e5eg02401geg5h28i7d3980dgi_18440_160442_write_records_per_second.json\n",
      "eid906e5eg02401geg5h28i7d3980dgi_18440_160457_read_records_per_second.json\n",
      "eid906e5eg02401geg5h28i7d3980dgi_18440_160457_write_records_per_second.json\n",
      "f2i2650h5edh4f179g21985f69838257_16838_165881_read_records_per_second.json\n",
      "f2i2650h5edh4f179g21985f69838257_16838_165881_write_records_per_second.json\n",
      "f2i2650h5edh4f179g21985f69838257_16838_165885_read_records_per_second.json\n",
      "f2i2650h5edh4f179g21985f69838257_16838_165885_write_records_per_second.json\n",
      "i14997h399794018ef362hd3i2e797e4_16499_160551_read_records_per_second.json\n",
      "i14997h399794018ef362hd3i2e797e4_16499_160555_read_records_per_second.json\n",
      "i14997h399794018ef362hd3i2e797e4_16499_160555_write_records_per_second.json\n",
      "i2ge571fe6h9451i82f6e2134i9hhhi4_10625_95182_write_records_per_second.json\n",
      "i2ge571fe6h9451i82f6e2134i9hhhi4_12890_129661_read_records_per_second.json\n",
      "i2ge571fe6h9451i82f6e2134i9hhhi4_12890_130525_read_records_per_second.json\n",
      "i2ge571fe6h9451i82f6e2134i9hhhi4_15114_146189_read_records_per_second.json\n",
      "i6dg8515940i42f488h927if637d56i4_13438_129957_read_records_per_second.json\n",
      "i6dg8515940i42f488h927if637d56i4_13438_129957_write_records_per_second.json\n",
      "i6dg8515940i42f488h927if637d56i4_13438_129984_read_records_per_second.json\n",
      "i6dg8515940i42f488h927if637d56i4_13438_129984_write_records_per_second.json\n",
      "i6dg8515940i42f488h927if637d56i4_13438_130592_read_records_per_second.json\n",
      "i6dg8515940i42f488h927if637d56i4_13438_130597_read_records_per_second.json\n",
      "i6dg8515940i42f488h927if637d56i4_13438_130597_write_records_per_second.json\n",
      "i6dg8515940i42f488h927if637d56i4_13438_130763_read_records_per_second.json\n",
      "i6dg8515940i42f488h927if637d56i4_13438_130763_write_records_per_second.json\n",
      "i6dg8515940i42f488h927if637d56i4_13438_130831_read_records_per_second.json\n",
      "i6dg8515940i42f488h927if637d56i4_13438_130831_write_records_per_second.json\n",
      "i6dg8515940i42f488h927if637d56i4_13438_130835_read_records_per_second.json\n",
      "i6dg8515940i42f488h927if637d56i4_13438_130835_write_records_per_second.json\n",
      "i6dg8515940i42f488h927if637d56i4_13438_130867_read_records_per_second.json\n",
      "i6dg8515940i42f488h927if637d56i4_13438_130867_write_records_per_second.json\n",
      "i6dg8515940i42f488h927if637d56i4_13438_131717_read_records_per_second.json\n",
      "i6dg8515940i42f488h927if637d56i4_13438_131717_write_records_per_second.json\n",
      "i6dg8515940i42f488h927if637d56i4_13438_131719_read_records_per_second.json\n",
      "i6dg8515940i42f488h927if637d56i4_13438_131720_read_records_per_second.json\n",
      "i6dg8515940i42f488h927if637d56i4_13438_131720_write_records_per_second.json\n",
      "i6dg8515940i42f488h927if637d56i4_13438_131722_read_records_per_second.json\n",
      "i6dg8515940i42f488h927if637d56i4_13438_131722_write_records_per_second.json\n",
      "i6dg8515940i42f488h927if637d56i4_13438_131882_read_records_per_second.json\n",
      "i6dg8515940i42f488h927if637d56i4_13438_131882_write_records_per_second.json\n",
      "i6dg8515940i42f488h927if637d56i4_13438_131883_read_records_per_second.json\n",
      "i6dg8515940i42f488h927if637d56i4_13438_131883_write_records_per_second.json\n",
      "i6dg8515940i42f488h927if637d56i4_13438_131884_read_records_per_second.json\n",
      "i6dg8515940i42f488h927if637d56i4_13438_131884_write_records_per_second.json\n",
      "i6dg8515940i42f488h927if637d56i4_13438_131961_read_records_per_second.json\n",
      "i6dg8515940i42f488h927if637d56i4_13438_131961_write_records_per_second.json\n",
      "i6dg8515940i42f488h927if637d56i4_13438_132207_read_records_per_second.json\n",
      "i6dg8515940i42f488h927if637d56i4_13438_132207_write_records_per_second.json\n",
      "i6dg8515940i42f488h927if637d56i4_13438_132270_read_records_per_second.json\n",
      "i6dg8515940i42f488h927if637d56i4_13438_132270_write_records_per_second.json\n",
      "i6dg8515940i42f488h927if637d56i4_13438_133606_read_records_per_second.json\n",
      "i6dg8515940i42f488h927if637d56i4_13438_133617_read_records_per_second.json\n",
      "i6dg8515940i42f488h927if637d56i4_13438_133617_write_records_per_second.json\n",
      "i6dg8515940i42f488h927if637d56i4_13438_133862_read_records_per_second.json\n",
      "i6dg8515940i42f488h927if637d56i4_13438_136034_read_records_per_second.json\n",
      "i6dg8515940i42f488h927if637d56i4_13438_136034_write_records_per_second.json\n",
      "i6dg8515940i42f488h927if637d56i4_13438_136047_read_records_per_second.json\n",
      "i6dg8515940i42f488h927if637d56i4_13438_136047_write_records_per_second.json\n",
      "i6dg8515940i42f488h927if637d56i4_13438_136048_read_records_per_second.json\n",
      "i6dg8515940i42f488h927if637d56i4_13438_136048_write_records_per_second.json\n",
      "i6dg8515940i42f488h927if637d56i4_13438_136344_read_records_per_second.json\n",
      "i6dg8515940i42f488h927if637d56i4_13438_136344_write_records_per_second.json\n",
      "i6dg8515940i42f488h927if637d56i4_13438_136345_read_records_per_second.json\n",
      "i6dg8515940i42f488h927if637d56i4_13438_136345_write_records_per_second.json\n",
      "i6dg8515940i42f488h927if637d56i4_13438_136346_read_records_per_second.json\n",
      "i6dg8515940i42f488h927if637d56i4_13438_136346_write_records_per_second.json\n",
      "i6dg8515940i42f488h927if637d56i4_13438_136347_read_records_per_second.json\n",
      "i6dg8515940i42f488h927if637d56i4_13438_136347_write_records_per_second.json\n",
      "i6dg8515940i42f488h927if637d56i4_13438_136351_read_records_per_second.json\n",
      "i6dg8515940i42f488h927if637d56i4_13438_136351_write_records_per_second.json\n",
      "i6dg8515940i42f488h927if637d56i4_13438_136356_read_records_per_second.json\n",
      "i6dg8515940i42f488h927if637d56i4_13438_136356_write_records_per_second.json\n",
      "i6dg8515940i42f488h927if637d56i4_13438_136358_read_records_per_second.json\n",
      "i6dg8515940i42f488h927if637d56i4_13438_136358_write_records_per_second.json\n",
      "i6dg8515940i42f488h927if637d56i4_13438_136359_read_records_per_second.json\n",
      "i6dg8515940i42f488h927if637d56i4_13438_136359_write_records_per_second.json\n",
      "i6dg8515940i42f488h927if637d56i4_13438_136361_read_records_per_second.json\n",
      "i6dg8515940i42f488h927if637d56i4_13438_136361_write_records_per_second.json\n",
      "i6dg8515940i42f488h927if637d56i4_13438_136362_read_records_per_second.json\n",
      "i6dg8515940i42f488h927if637d56i4_13438_136362_write_records_per_second.json\n",
      "i6dg8515940i42f488h927if637d56i4_13438_138289_read_records_per_second.json\n",
      "i6dg8515940i42f488h927if637d56i4_13438_138289_write_records_per_second.json\n",
      "i6dg8515940i42f488h927if637d56i4_13438_138863_read_records_per_second.json\n",
      "i6dg8515940i42f488h927if637d56i4_13438_138863_write_records_per_second.json\n",
      "i6dg8515940i42f488h927if637d56i4_13438_138868_read_records_per_second.json\n",
      "i6dg8515940i42f488h927if637d56i4_13438_138868_write_records_per_second.json\n",
      "i6dg8515940i42f488h927if637d56i4_13438_138893_read_records_per_second.json\n",
      "i6dg8515940i42f488h927if637d56i4_13438_138893_write_records_per_second.json\n",
      "i6dg8515940i42f488h927if637d56i4_13438_138894_read_records_per_second.json\n",
      "i6dg8515940i42f488h927if637d56i4_13438_138894_write_records_per_second.json\n",
      "i6dg8515940i42f488h927if637d56i4_13438_138895_read_records_per_second.json\n",
      "i6dg8515940i42f488h927if637d56i4_13438_138895_write_records_per_second.json\n",
      "i6dg8515940i42f488h927if637d56i4_13438_138897_read_records_per_second.json\n",
      "i6dg8515940i42f488h927if637d56i4_13438_138897_write_records_per_second.json\n",
      "i6dg8515940i42f488h927if637d56i4_13438_138905_read_records_per_second.json\n",
      "i6dg8515940i42f488h927if637d56i4_13438_138905_write_records_per_second.json\n",
      "i6dg8515940i42f488h927if637d56i4_13438_138912_read_records_per_second.json\n",
      "i6dg8515940i42f488h927if637d56i4_13438_138912_write_records_per_second.json\n",
      "i6dg8515940i42f488h927if637d56i4_13438_138928_read_records_per_second.json\n",
      "i6dg8515940i42f488h927if637d56i4_13438_138928_write_records_per_second.json\n",
      "i6dg8515940i42f488h927if637d56i4_13438_140485_read_records_per_second.json\n",
      "i6dg8515940i42f488h927if637d56i4_13438_140485_write_records_per_second.json\n",
      "i6dg8515940i42f488h927if637d56i4_13438_141851_read_records_per_second.json\n",
      "i6dg8515940i42f488h927if637d56i4_13438_141851_write_records_per_second.json\n",
      "i6dg8515940i42f488h927if637d56i4_13438_141852_read_records_per_second.json\n",
      "i6dg8515940i42f488h927if637d56i4_13438_141852_write_records_per_second.json\n",
      "i6dg8515940i42f488h927if637d56i4_13438_141853_read_records_per_second.json\n",
      "i6dg8515940i42f488h927if637d56i4_13438_141853_write_records_per_second.json\n",
      "i6dg8515940i42f488h927if637d56i4_13438_144372_read_records_per_second.json\n",
      "i6dg8515940i42f488h927if637d56i4_13438_144372_write_records_per_second.json\n",
      "i6dg8515940i42f488h927if637d56i4_13438_146728_read_records_per_second.json\n",
      "i6dg8515940i42f488h927if637d56i4_13438_146728_write_records_per_second.json\n",
      "i6dg8515940i42f488h927if637d56i4_13438_146732_read_records_per_second.json\n",
      "i6dg8515940i42f488h927if637d56i4_13438_146732_write_records_per_second.json\n",
      "i6dg8515940i42f488h927if637d56i4_13438_146733_read_records_per_second.json\n",
      "i6dg8515940i42f488h927if637d56i4_13438_146733_write_records_per_second.json\n",
      "i6dg8515940i42f488h927if637d56i4_13438_146735_read_records_per_second.json\n",
      "i6dg8515940i42f488h927if637d56i4_13438_146735_write_records_per_second.json\n",
      "i6dg8515940i42f488h927if637d56i4_13438_146737_read_records_per_second.json\n",
      "i6dg8515940i42f488h927if637d56i4_13438_146737_write_records_per_second.json\n",
      "i6dg8515940i42f488h927if637d56i4_13438_159260_read_records_per_second.json\n",
      "i6dg8515940i42f488h927if637d56i4_13438_159260_write_records_per_second.json\n",
      "i6dg8515940i42f488h927if637d56i4_13438_163874_read_records_per_second.json\n",
      "i6dg8515940i42f488h927if637d56i4_13438_163874_write_records_per_second.json\n",
      "i6dg8515940i42f488h927if637d56i4_13438_163886_read_records_per_second.json\n",
      "i6dg8515940i42f488h927if637d56i4_13438_163886_write_records_per_second.json\n",
      "i6dg8515940i42f488h927if637d56i4_13438_176860_read_records_per_second.json\n",
      "i6dg8515940i42f488h927if637d56i4_13438_176860_write_records_per_second.json\n",
      "i6dg8515940i42f488h927if637d56i4_13438_176864_read_records_per_second.json\n",
      "i6dg8515940i42f488h927if637d56i4_13438_176864_write_records_per_second.json\n",
      "i6dg8515940i42f488h927if637d56i4_13438_176866_read_records_per_second.json\n",
      "i6dg8515940i42f488h927if637d56i4_13438_176866_write_records_per_second.json\n",
      "i6dg8515940i42f488h927if637d56i4_13438_176869_read_records_per_second.json\n",
      "i6dg8515940i42f488h927if637d56i4_13438_176869_write_records_per_second.json\n",
      "i6dg8515940i42f488h927if637d56i4_13438_176871_read_records_per_second.json\n",
      "i6dg8515940i42f488h927if637d56i4_13438_176871_write_records_per_second.json\n",
      "i6dg8515940i42f488h927if637d56i4_13438_183718_read_records_per_second.json\n",
      "i6dg8515940i42f488h927if637d56i4_13438_183976_read_records_per_second.json\n",
      "i6dg8515940i42f488h927if637d56i4_13438_197520_read_records_per_second.json\n",
      "i6dg8515940i42f488h927if637d56i4_13438_197520_write_records_per_second.json\n",
      "i6dg8515940i42f488h927if637d56i4_13438_197723_read_records_per_second.json\n",
      "i6dg8515940i42f488h927if637d56i4_13438_197723_write_records_per_second.json\n",
      "i6dg8515940i42f488h927if637d56i4_13438_198956_read_records_per_second.json\n",
      "i6dg8515940i42f488h927if637d56i4_13438_198956_write_records_per_second.json\n",
      "i6dg8515940i42f488h927if637d56i4_13438_198960_read_records_per_second.json\n",
      "i6dg8515940i42f488h927if637d56i4_13438_198960_write_records_per_second.json\n",
      "i6dg8515940i42f488h927if637d56i4_13438_198962_read_records_per_second.json\n",
      "i6dg8515940i42f488h927if637d56i4_13438_198962_write_records_per_second.json\n",
      "i6dg8515940i42f488h927if637d56i4_13438_198963_read_records_per_second.json\n",
      "i6dg8515940i42f488h927if637d56i4_13438_198963_write_records_per_second.json\n",
      "i6dg8515940i42f488h927if637d56i4_13438_198994_read_records_per_second.json\n",
      "i6dg8515940i42f488h927if637d56i4_13438_198994_write_records_per_second.json\n",
      "i6dg8515940i42f488h927if637d56i4_13438_202091_read_records_per_second.json\n",
      "i6dg8515940i42f488h927if637d56i4_18153_161050_read_records_per_second.json\n",
      "i6dg8515940i42f488h927if637d56i4_18153_161050_write_records_per_second.json\n",
      "i6dg8515940i42f488h927if637d56i4_18153_176535_read_records_per_second.json\n",
      "i6dg8515940i42f488h927if637d56i4_18153_176535_write_records_per_second.json\n",
      "i6dg8515940i42f488h927if637d56i4_18153_186493_read_records_per_second.json\n",
      "i6dg8515940i42f488h927if637d56i4_18153_186493_write_records_per_second.json\n",
      "i6dg8515940i42f488h927if637d56i4_18153_186494_read_records_per_second.json\n",
      "i6dg8515940i42f488h927if637d56i4_18153_186494_write_records_per_second.json\n",
      "i6dg8515940i42f488h927if637d56i4_18153_195821_read_records_per_second.json\n",
      "i6dg8515940i42f488h927if637d56i4_18153_195821_write_records_per_second.json\n",
      "10h4id8fd1ii4477diifdd5d3iig9596_15360_129942_read_records_per_second.json\n",
      "10h4id8fd1ii4477diifdd5d3iig9596_15360_129942_write_records_per_second.json\n",
      "10h4id8fd1ii4477diifdd5d3iig9596_15360_130545_read_records_per_second.json\n",
      "10h4id8fd1ii4477diifdd5d3iig9596_15360_130545_write_records_per_second.json\n",
      "10h4id8fd1ii4477diifdd5d3iig9596_15360_149764_read_records_per_second.json\n",
      "10h4id8fd1ii4477diifdd5d3iig9596_15360_149764_write_records_per_second.json\n",
      "10h4id8fd1ii4477diifdd5d3iig9596_15360_149765_read_records_per_second.json\n",
      "10h4id8fd1ii4477diifdd5d3iig9596_15360_149765_write_records_per_second.json\n",
      "10h4id8fd1ii4477diifdd5d3iig9596_15360_154067_read_records_per_second.json\n",
      "10h4id8fd1ii4477diifdd5d3iig9596_15360_154067_write_records_per_second.json\n",
      "10h4id8fd1ii4477diifdd5d3iig9596_15360_154068_read_records_per_second.json\n",
      "10h4id8fd1ii4477diifdd5d3iig9596_15360_154068_write_records_per_second.json\n",
      "10h4id8fd1ii4477diifdd5d3iig9596_15360_155055_read_records_per_second.json\n",
      "10h4id8fd1ii4477diifdd5d3iig9596_15360_155055_write_records_per_second.json\n",
      "10h4id8fd1ii4477diifdd5d3iig9596_15360_187773_read_records_per_second.json\n",
      "10h4id8fd1ii4477diifdd5d3iig9596_15360_188470_read_records_per_second.json\n",
      "10h4id8fd1ii4477diifdd5d3iig9596_15360_191307_read_records_per_second.json\n",
      "10h4id8fd1ii4477diifdd5d3iig9596_15360_191307_write_records_per_second.json\n",
      "10h4id8fd1ii4477diifdd5d3iig9596_15360_191608_read_records_per_second.json\n",
      "10h4id8fd1ii4477diifdd5d3iig9596_8708_169862_read_records_per_second.json\n",
      "10h4id8fd1ii4477diifdd5d3iig9596_8708_169862_write_records_per_second.json\n",
      "10h4id8fd1ii4477diifdd5d3iig9596_8708_170171_read_records_per_second.json\n",
      "10h4id8fd1ii4477diifdd5d3iig9596_8708_170171_write_records_per_second.json\n",
      "10h4id8fd1ii4477diifdd5d3iig9596_8708_170172_read_records_per_second.json\n",
      "10h4id8fd1ii4477diifdd5d3iig9596_8708_170172_write_records_per_second.json\n",
      "10h4id8fd1ii4477diifdd5d3iig9596_8708_171064_read_records_per_second.json\n",
      "10h4id8fd1ii4477diifdd5d3iig9596_8708_171064_write_records_per_second.json\n",
      "10h4id8fd1ii4477diifdd5d3iig9596_8708_171148_read_records_per_second.json\n",
      "10h4id8fd1ii4477diifdd5d3iig9596_8708_171148_write_records_per_second.json\n",
      "10h4id8fd1ii4477diifdd5d3iig9596_8708_171149_read_records_per_second.json\n",
      "10h4id8fd1ii4477diifdd5d3iig9596_8708_171149_write_records_per_second.json\n",
      "1dh1e3d93h944idh991i576e48917264_13604_129570_read_records_per_second.json\n",
      "1dh1e3d93h944idh991i576e48917264_13604_129570_write_records_per_second.json\n",
      "1dh1e3d93h944idh991i576e48917264_13604_129571_read_records_per_second.json\n",
      "1dh1e3d93h944idh991i576e48917264_13604_129571_write_records_per_second.json\n",
      "1dh1e3d93h944idh991i576e48917264_13604_129572_read_records_per_second.json\n",
      "1dh1e3d93h944idh991i576e48917264_13604_129572_write_records_per_second.json\n",
      "1dh1e3d93h944idh991i576e48917264_13604_129575_read_records_per_second.json\n",
      "1dh1e3d93h944idh991i576e48917264_13604_129575_write_records_per_second.json\n",
      "1dh1e3d93h944idh991i576e48917264_13604_129985_read_records_per_second.json\n",
      "1dh1e3d93h944idh991i576e48917264_13604_129985_write_records_per_second.json\n",
      "1dh1e3d93h944idh991i576e48917264_13604_130578_read_records_per_second.json\n",
      "1dh1e3d93h944idh991i576e48917264_13604_130578_write_records_per_second.json\n",
      "1dh1e3d93h944idh991i576e48917264_13604_137718_read_records_per_second.json\n",
      "1dh1e3d93h944idh991i576e48917264_13604_137718_write_records_per_second.json\n",
      "1dh1e3d93h944idh991i576e48917264_13604_150343_read_records_per_second.json\n",
      "1dh1e3d93h944idh991i576e48917264_13604_150343_write_records_per_second.json\n",
      "6d6010eh7716405490hi5047ffehe0g4_15637_207288_read_records_per_second.json\n",
      "6d6010eh7716405490hi5047ffehe0g4_15637_207288_write_records_per_second.json\n",
      "6d6010eh7716405490hi5047ffehe0g4_15637_207291_read_records_per_second.json\n",
      "6d6010eh7716405490hi5047ffehe0g4_15637_207291_write_records_per_second.json\n",
      "797f8if3f4gg4i6985g5i42gf6ei70eg_15384_144649_read_records_per_second.json\n",
      "797f8if3f4gg4i6985g5i42gf6ei70eg_15384_144649_write_records_per_second.json\n",
      "797f8if3f4gg4i6985g5i42gf6ei70eg_15384_144872_read_records_per_second.json\n",
      "797f8if3f4gg4i6985g5i42gf6ei70eg_15384_144872_write_records_per_second.json\n",
      "797f8if3f4gg4i6985g5i42gf6ei70eg_15384_149533_read_records_per_second.json\n",
      "797f8if3f4gg4i6985g5i42gf6ei70eg_15384_153328_read_records_per_second.json\n",
      "797f8if3f4gg4i6985g5i42gf6ei70eg_15384_153328_write_records_per_second.json\n",
      "797f8if3f4gg4i6985g5i42gf6ei70eg_15384_171421_read_records_per_second.json\n",
      "797f8if3f4gg4i6985g5i42gf6ei70eg_15384_171421_write_records_per_second.json\n",
      "797f8if3f4gg4i6985g5i42gf6ei70eg_15384_175277_write_records_per_second.json\n",
      "797f8if3f4gg4i6985g5i42gf6ei70eg_15384_175499_read_records_per_second.json\n",
      "797f8if3f4gg4i6985g5i42gf6ei70eg_15384_192705_read_records_per_second.json\n",
      "797f8if3f4gg4i6985g5i42gf6ei70eg_15384_192705_write_records_per_second.json\n",
      "8080000000017000000_14788_162149_read_records_per_second.json\n",
      "8080000000017000000_14788_162149_write_records_per_second.json\n",
      "8080000000017000000_14788_189953_read_records_per_second.json\n",
      "8080000000017000000_14788_202530_read_records_per_second.json\n",
      "8080000000017000000_14788_202530_write_records_per_second.json\n",
      "8080000000017000000_14788_205052_read_records_per_second.json\n",
      "8080000000017000000_14788_205052_write_records_per_second.json\n",
      "8idd6682h905436fdg42856g0geefe11_10332_96477_read_records_per_second.json\n",
      "8idd6682h905436fdg42856g0geefe11_10332_96477_write_records_per_second.json\n",
      "8idd6682h905436fdg42856g0geefe11_10332_97264_read_records_per_second.json\n",
      "8idd6682h905436fdg42856g0geefe11_10332_97264_write_records_per_second.json\n",
      "9g79i0fh02064f90e83dg5g06d8e1h1i_11761_121796_read_records_per_second.json\n",
      "9g79i0fh02064f90e83dg5g06d8e1h1i_11761_128394_read_records_per_second.json\n",
      "9g79i0fh02064f90e83dg5g06d8e1h1i_11761_128394_write_records_per_second.json\n",
      "9g79i0fh02064f90e83dg5g06d8e1h1i_11761_128401_read_records_per_second.json\n",
      "9g79i0fh02064f90e83dg5g06d8e1h1i_11761_128401_write_records_per_second.json\n",
      "9g79i0fh02064f90e83dg5g06d8e1h1i_11761_128403_read_records_per_second.json\n",
      "9g79i0fh02064f90e83dg5g06d8e1h1i_11761_129067_read_records_per_second.json\n",
      "9g79i0fh02064f90e83dg5g06d8e1h1i_11761_129067_write_records_per_second.json\n",
      "9g79i0fh02064f90e83dg5g06d8e1h1i_11761_192343_read_records_per_second.json\n",
      "9g79i0fh02064f90e83dg5g06d8e1h1i_11761_192343_write_records_per_second.json\n",
      "9g79i0fh02064f90e83dg5g06d8e1h1i_11761_201181_read_records_per_second.json\n",
      "9g79i0fh02064f90e83dg5g06d8e1h1i_11761_201184_read_records_per_second.json\n",
      "9g79i0fh02064f90e83dg5g06d8e1h1i_11761_201184_write_records_per_second.json\n",
      "9g79i0fh02064f90e83dg5g06d8e1h1i_14027_130180_read_records_per_second.json\n",
      "9g79i0fh02064f90e83dg5g06d8e1h1i_14027_130180_write_records_per_second.json\n",
      "9g79i0fh02064f90e83dg5g06d8e1h1i_14027_137685_read_records_per_second.json\n",
      "9g79i0fh02064f90e83dg5g06d8e1h1i_14027_137685_write_records_per_second.json\n",
      "9g79i0fh02064f90e83dg5g06d8e1h1i_14027_137962_read_records_per_second.json\n",
      "9g79i0fh02064f90e83dg5g06d8e1h1i_14027_137962_write_records_per_second.json\n",
      "9g79i0fh02064f90e83dg5g06d8e1h1i_14027_169268_read_records_per_second.json\n",
      "9g79i0fh02064f90e83dg5g06d8e1h1i_14027_169268_write_records_per_second.json\n",
      "9g79i0fh02064f90e83dg5g06d8e1h1i_14027_169269_read_records_per_second.json\n",
      "9g79i0fh02064f90e83dg5g06d8e1h1i_14027_169269_write_records_per_second.json\n",
      "9g79i0fh02064f90e83dg5g06d8e1h1i_14027_169274_read_records_per_second.json\n",
      "9g79i0fh02064f90e83dg5g06d8e1h1i_14027_169274_write_records_per_second.json\n",
      "9g79i0fh02064f90e83dg5g06d8e1h1i_14027_174476_read_records_per_second.json\n",
      "9g79i0fh02064f90e83dg5g06d8e1h1i_14027_174476_write_records_per_second.json\n",
      "9g79i0fh02064f90e83dg5g06d8e1h1i_14027_205306_read_records_per_second.json\n",
      "9g79i0fh02064f90e83dg5g06d8e1h1i_14027_205306_write_records_per_second.json\n",
      "9g79i0fh02064f90e83dg5g06d8e1h1i_14027_205854_read_records_per_second.json\n",
      "9g79i0fh02064f90e83dg5g06d8e1h1i_14027_205854_write_records_per_second.json\n",
      "9g79i0fh02064f90e83dg5g06d8e1h1i_14047_173196_read_records_per_second.json\n",
      "9g79i0fh02064f90e83dg5g06d8e1h1i_14047_173196_write_records_per_second.json\n",
      "9g79i0fh02064f90e83dg5g06d8e1h1i_14047_176340_read_records_per_second.json\n",
      "9g79i0fh02064f90e83dg5g06d8e1h1i_14047_176344_read_records_per_second.json\n",
      "9g79i0fh02064f90e83dg5g06d8e1h1i_14047_176344_write_records_per_second.json\n",
      "9g79i0fh02064f90e83dg5g06d8e1h1i_19223_176492_read_records_per_second.json\n",
      "9g79i0fh02064f90e83dg5g06d8e1h1i_19223_176492_write_records_per_second.json\n",
      "9g79i0fh02064f90e83dg5g06d8e1h1i_19223_178043_read_records_per_second.json\n",
      "9g79i0fh02064f90e83dg5g06d8e1h1i_19223_178043_write_records_per_second.json\n",
      "9g79i0fh02064f90e83dg5g06d8e1h1i_19223_178941_read_records_per_second.json\n",
      "9g79i0fh02064f90e83dg5g06d8e1h1i_19223_178941_write_records_per_second.json\n",
      "9g79i0fh02064f90e83dg5g06d8e1h1i_6381_100720_read_records_per_second.json\n",
      "9g79i0fh02064f90e83dg5g06d8e1h1i_6381_100720_write_records_per_second.json\n",
      "9g79i0fh02064f90e83dg5g06d8e1h1i_6381_100729_read_records_per_second.json\n",
      "9g79i0fh02064f90e83dg5g06d8e1h1i_6381_100729_write_records_per_second.json\n",
      "9g79i0fh02064f90e83dg5g06d8e1h1i_6381_100732_read_records_per_second.json\n",
      "9g79i0fh02064f90e83dg5g06d8e1h1i_6381_103221_read_records_per_second.json\n",
      "9g79i0fh02064f90e83dg5g06d8e1h1i_6381_154902_read_records_per_second.json\n",
      "9g79i0fh02064f90e83dg5g06d8e1h1i_6381_154902_write_records_per_second.json\n",
      "9g79i0fh02064f90e83dg5g06d8e1h1i_6381_155183_read_records_per_second.json\n",
      "9g79i0fh02064f90e83dg5g06d8e1h1i_6381_155183_write_records_per_second.json\n",
      "9g79i0fh02064f90e83dg5g06d8e1h1i_6381_155184_read_records_per_second.json\n",
      "9g79i0fh02064f90e83dg5g06d8e1h1i_6381_155184_write_records_per_second.json\n",
      "9g79i0fh02064f90e83dg5g06d8e1h1i_6381_96786_read_records_per_second.json\n",
      "9g79i0fh02064f90e83dg5g06d8e1h1i_6381_96786_write_records_per_second.json\n",
      "9g79i0fh02064f90e83dg5g06d8e1h1i_6381_97647_read_records_per_second.json\n",
      "9g79i0fh02064f90e83dg5g06d8e1h1i_6381_97647_write_records_per_second.json\n",
      "9g79i0fh02064f90e83dg5g06d8e1h1i_6381_97655_read_records_per_second.json\n",
      "9g79i0fh02064f90e83dg5g06d8e1h1i_6381_97655_write_records_per_second.json\n",
      "9g79i0fh02064f90e83dg5g06d8e1h1i_6381_99921_read_records_per_second.json\n",
      "9g79i0fh02064f90e83dg5g06d8e1h1i_6381_99921_write_records_per_second.json\n",
      "eid906e5eg02401geg5h28i7d3980dgi_18440_160442_read_records_per_second.json\n",
      "eid906e5eg02401geg5h28i7d3980dgi_18440_160442_write_records_per_second.json\n",
      "eid906e5eg02401geg5h28i7d3980dgi_18440_160457_read_records_per_second.json\n",
      "eid906e5eg02401geg5h28i7d3980dgi_18440_160457_write_records_per_second.json\n",
      "f2i2650h5edh4f179g21985f69838257_16838_165881_read_records_per_second.json\n",
      "f2i2650h5edh4f179g21985f69838257_16838_165881_write_records_per_second.json\n",
      "f2i2650h5edh4f179g21985f69838257_16838_165885_read_records_per_second.json\n",
      "f2i2650h5edh4f179g21985f69838257_16838_165885_write_records_per_second.json\n",
      "i14997h399794018ef362hd3i2e797e4_16499_160551_read_records_per_second.json\n",
      "i14997h399794018ef362hd3i2e797e4_16499_160555_read_records_per_second.json\n",
      "i14997h399794018ef362hd3i2e797e4_16499_160555_write_records_per_second.json\n",
      "i2ge571fe6h9451i82f6e2134i9hhhi4_10625_95182_write_records_per_second.json\n",
      "i2ge571fe6h9451i82f6e2134i9hhhi4_12890_129661_read_records_per_second.json\n",
      "i2ge571fe6h9451i82f6e2134i9hhhi4_12890_130525_read_records_per_second.json\n",
      "i2ge571fe6h9451i82f6e2134i9hhhi4_15114_146189_read_records_per_second.json\n",
      "i6dg8515940i42f488h927if637d56i4_13438_129957_read_records_per_second.json\n",
      "i6dg8515940i42f488h927if637d56i4_13438_129957_write_records_per_second.json\n",
      "i6dg8515940i42f488h927if637d56i4_13438_129984_read_records_per_second.json\n",
      "i6dg8515940i42f488h927if637d56i4_13438_129984_write_records_per_second.json\n",
      "i6dg8515940i42f488h927if637d56i4_13438_130592_read_records_per_second.json\n",
      "i6dg8515940i42f488h927if637d56i4_13438_130597_read_records_per_second.json\n",
      "i6dg8515940i42f488h927if637d56i4_13438_130597_write_records_per_second.json\n",
      "i6dg8515940i42f488h927if637d56i4_13438_130763_read_records_per_second.json\n",
      "i6dg8515940i42f488h927if637d56i4_13438_130763_write_records_per_second.json\n",
      "i6dg8515940i42f488h927if637d56i4_13438_130831_read_records_per_second.json\n",
      "i6dg8515940i42f488h927if637d56i4_13438_130831_write_records_per_second.json\n",
      "i6dg8515940i42f488h927if637d56i4_13438_130835_read_records_per_second.json\n",
      "i6dg8515940i42f488h927if637d56i4_13438_130835_write_records_per_second.json\n",
      "i6dg8515940i42f488h927if637d56i4_13438_130867_read_records_per_second.json\n",
      "i6dg8515940i42f488h927if637d56i4_13438_130867_write_records_per_second.json\n",
      "i6dg8515940i42f488h927if637d56i4_13438_131717_read_records_per_second.json\n",
      "i6dg8515940i42f488h927if637d56i4_13438_131717_write_records_per_second.json\n",
      "i6dg8515940i42f488h927if637d56i4_13438_131719_read_records_per_second.json\n",
      "i6dg8515940i42f488h927if637d56i4_13438_131720_read_records_per_second.json\n",
      "i6dg8515940i42f488h927if637d56i4_13438_131720_write_records_per_second.json\n",
      "i6dg8515940i42f488h927if637d56i4_13438_131722_read_records_per_second.json\n",
      "i6dg8515940i42f488h927if637d56i4_13438_131722_write_records_per_second.json\n",
      "i6dg8515940i42f488h927if637d56i4_13438_131882_read_records_per_second.json\n",
      "i6dg8515940i42f488h927if637d56i4_13438_131882_write_records_per_second.json\n",
      "i6dg8515940i42f488h927if637d56i4_13438_131883_read_records_per_second.json\n",
      "i6dg8515940i42f488h927if637d56i4_13438_131883_write_records_per_second.json\n",
      "i6dg8515940i42f488h927if637d56i4_13438_131884_read_records_per_second.json\n",
      "i6dg8515940i42f488h927if637d56i4_13438_131884_write_records_per_second.json\n",
      "i6dg8515940i42f488h927if637d56i4_13438_131961_read_records_per_second.json\n",
      "i6dg8515940i42f488h927if637d56i4_13438_131961_write_records_per_second.json\n",
      "i6dg8515940i42f488h927if637d56i4_13438_132207_read_records_per_second.json\n",
      "i6dg8515940i42f488h927if637d56i4_13438_132207_write_records_per_second.json\n",
      "i6dg8515940i42f488h927if637d56i4_13438_132270_read_records_per_second.json\n",
      "i6dg8515940i42f488h927if637d56i4_13438_132270_write_records_per_second.json\n",
      "i6dg8515940i42f488h927if637d56i4_13438_133606_read_records_per_second.json\n",
      "i6dg8515940i42f488h927if637d56i4_13438_133617_read_records_per_second.json\n",
      "i6dg8515940i42f488h927if637d56i4_13438_133617_write_records_per_second.json\n",
      "i6dg8515940i42f488h927if637d56i4_13438_133862_read_records_per_second.json\n",
      "i6dg8515940i42f488h927if637d56i4_13438_136034_read_records_per_second.json\n",
      "i6dg8515940i42f488h927if637d56i4_13438_136034_write_records_per_second.json\n",
      "i6dg8515940i42f488h927if637d56i4_13438_136047_read_records_per_second.json\n",
      "i6dg8515940i42f488h927if637d56i4_13438_136047_write_records_per_second.json\n",
      "i6dg8515940i42f488h927if637d56i4_13438_136048_read_records_per_second.json\n",
      "i6dg8515940i42f488h927if637d56i4_13438_136048_write_records_per_second.json\n",
      "i6dg8515940i42f488h927if637d56i4_13438_136344_read_records_per_second.json\n",
      "i6dg8515940i42f488h927if637d56i4_13438_136344_write_records_per_second.json\n",
      "i6dg8515940i42f488h927if637d56i4_13438_136345_read_records_per_second.json\n",
      "i6dg8515940i42f488h927if637d56i4_13438_136345_write_records_per_second.json\n",
      "i6dg8515940i42f488h927if637d56i4_13438_136346_read_records_per_second.json\n",
      "i6dg8515940i42f488h927if637d56i4_13438_136346_write_records_per_second.json\n",
      "i6dg8515940i42f488h927if637d56i4_13438_136347_read_records_per_second.json\n",
      "i6dg8515940i42f488h927if637d56i4_13438_136347_write_records_per_second.json\n",
      "i6dg8515940i42f488h927if637d56i4_13438_136351_read_records_per_second.json\n",
      "i6dg8515940i42f488h927if637d56i4_13438_136351_write_records_per_second.json\n",
      "i6dg8515940i42f488h927if637d56i4_13438_136356_read_records_per_second.json\n",
      "i6dg8515940i42f488h927if637d56i4_13438_136356_write_records_per_second.json\n",
      "i6dg8515940i42f488h927if637d56i4_13438_136358_read_records_per_second.json\n",
      "i6dg8515940i42f488h927if637d56i4_13438_136358_write_records_per_second.json\n",
      "i6dg8515940i42f488h927if637d56i4_13438_136359_read_records_per_second.json\n",
      "i6dg8515940i42f488h927if637d56i4_13438_136359_write_records_per_second.json\n",
      "i6dg8515940i42f488h927if637d56i4_13438_136361_read_records_per_second.json\n",
      "i6dg8515940i42f488h927if637d56i4_13438_136361_write_records_per_second.json\n",
      "i6dg8515940i42f488h927if637d56i4_13438_136362_read_records_per_second.json\n",
      "i6dg8515940i42f488h927if637d56i4_13438_136362_write_records_per_second.json\n",
      "i6dg8515940i42f488h927if637d56i4_13438_138289_read_records_per_second.json\n",
      "i6dg8515940i42f488h927if637d56i4_13438_138289_write_records_per_second.json\n",
      "i6dg8515940i42f488h927if637d56i4_13438_138863_read_records_per_second.json\n",
      "i6dg8515940i42f488h927if637d56i4_13438_138863_write_records_per_second.json\n",
      "i6dg8515940i42f488h927if637d56i4_13438_138868_read_records_per_second.json\n",
      "i6dg8515940i42f488h927if637d56i4_13438_138868_write_records_per_second.json\n",
      "i6dg8515940i42f488h927if637d56i4_13438_138893_read_records_per_second.json\n",
      "i6dg8515940i42f488h927if637d56i4_13438_138893_write_records_per_second.json\n",
      "i6dg8515940i42f488h927if637d56i4_13438_138894_read_records_per_second.json\n",
      "i6dg8515940i42f488h927if637d56i4_13438_138894_write_records_per_second.json\n",
      "i6dg8515940i42f488h927if637d56i4_13438_138895_read_records_per_second.json\n",
      "i6dg8515940i42f488h927if637d56i4_13438_138895_write_records_per_second.json\n",
      "i6dg8515940i42f488h927if637d56i4_13438_138897_read_records_per_second.json\n",
      "i6dg8515940i42f488h927if637d56i4_13438_138897_write_records_per_second.json\n",
      "i6dg8515940i42f488h927if637d56i4_13438_138905_read_records_per_second.json\n",
      "i6dg8515940i42f488h927if637d56i4_13438_138905_write_records_per_second.json\n",
      "i6dg8515940i42f488h927if637d56i4_13438_138912_read_records_per_second.json\n",
      "i6dg8515940i42f488h927if637d56i4_13438_138912_write_records_per_second.json\n",
      "i6dg8515940i42f488h927if637d56i4_13438_138928_read_records_per_second.json\n",
      "i6dg8515940i42f488h927if637d56i4_13438_138928_write_records_per_second.json\n",
      "i6dg8515940i42f488h927if637d56i4_13438_140485_read_records_per_second.json\n",
      "i6dg8515940i42f488h927if637d56i4_13438_140485_write_records_per_second.json\n",
      "i6dg8515940i42f488h927if637d56i4_13438_141851_read_records_per_second.json\n",
      "i6dg8515940i42f488h927if637d56i4_13438_141851_write_records_per_second.json\n",
      "i6dg8515940i42f488h927if637d56i4_13438_141852_read_records_per_second.json\n",
      "i6dg8515940i42f488h927if637d56i4_13438_141852_write_records_per_second.json\n",
      "i6dg8515940i42f488h927if637d56i4_13438_141853_read_records_per_second.json\n",
      "i6dg8515940i42f488h927if637d56i4_13438_141853_write_records_per_second.json\n",
      "i6dg8515940i42f488h927if637d56i4_13438_144372_read_records_per_second.json\n",
      "i6dg8515940i42f488h927if637d56i4_13438_144372_write_records_per_second.json\n",
      "i6dg8515940i42f488h927if637d56i4_13438_146728_read_records_per_second.json\n",
      "i6dg8515940i42f488h927if637d56i4_13438_146728_write_records_per_second.json\n",
      "i6dg8515940i42f488h927if637d56i4_13438_146732_read_records_per_second.json\n",
      "i6dg8515940i42f488h927if637d56i4_13438_146732_write_records_per_second.json\n",
      "i6dg8515940i42f488h927if637d56i4_13438_146733_read_records_per_second.json\n",
      "i6dg8515940i42f488h927if637d56i4_13438_146733_write_records_per_second.json\n",
      "i6dg8515940i42f488h927if637d56i4_13438_146735_read_records_per_second.json\n",
      "i6dg8515940i42f488h927if637d56i4_13438_146735_write_records_per_second.json\n",
      "i6dg8515940i42f488h927if637d56i4_13438_146737_read_records_per_second.json\n",
      "i6dg8515940i42f488h927if637d56i4_13438_146737_write_records_per_second.json\n",
      "i6dg8515940i42f488h927if637d56i4_13438_159260_read_records_per_second.json\n",
      "i6dg8515940i42f488h927if637d56i4_13438_159260_write_records_per_second.json\n",
      "i6dg8515940i42f488h927if637d56i4_13438_163874_read_records_per_second.json\n",
      "i6dg8515940i42f488h927if637d56i4_13438_163874_write_records_per_second.json\n",
      "i6dg8515940i42f488h927if637d56i4_13438_163886_read_records_per_second.json\n",
      "i6dg8515940i42f488h927if637d56i4_13438_163886_write_records_per_second.json\n",
      "i6dg8515940i42f488h927if637d56i4_13438_176860_read_records_per_second.json\n",
      "i6dg8515940i42f488h927if637d56i4_13438_176860_write_records_per_second.json\n",
      "i6dg8515940i42f488h927if637d56i4_13438_176864_read_records_per_second.json\n",
      "i6dg8515940i42f488h927if637d56i4_13438_176864_write_records_per_second.json\n",
      "i6dg8515940i42f488h927if637d56i4_13438_176866_read_records_per_second.json\n",
      "i6dg8515940i42f488h927if637d56i4_13438_176866_write_records_per_second.json\n",
      "i6dg8515940i42f488h927if637d56i4_13438_176869_read_records_per_second.json\n",
      "i6dg8515940i42f488h927if637d56i4_13438_176869_write_records_per_second.json\n",
      "i6dg8515940i42f488h927if637d56i4_13438_176871_read_records_per_second.json\n",
      "i6dg8515940i42f488h927if637d56i4_13438_176871_write_records_per_second.json\n",
      "i6dg8515940i42f488h927if637d56i4_13438_183718_read_records_per_second.json\n",
      "i6dg8515940i42f488h927if637d56i4_13438_183976_read_records_per_second.json\n",
      "i6dg8515940i42f488h927if637d56i4_13438_197520_read_records_per_second.json\n",
      "i6dg8515940i42f488h927if637d56i4_13438_197520_write_records_per_second.json\n",
      "i6dg8515940i42f488h927if637d56i4_13438_197723_read_records_per_second.json\n",
      "i6dg8515940i42f488h927if637d56i4_13438_197723_write_records_per_second.json\n",
      "i6dg8515940i42f488h927if637d56i4_13438_198956_read_records_per_second.json\n",
      "i6dg8515940i42f488h927if637d56i4_13438_198956_write_records_per_second.json\n",
      "i6dg8515940i42f488h927if637d56i4_13438_198960_read_records_per_second.json\n",
      "i6dg8515940i42f488h927if637d56i4_13438_198960_write_records_per_second.json\n",
      "i6dg8515940i42f488h927if637d56i4_13438_198962_read_records_per_second.json\n",
      "i6dg8515940i42f488h927if637d56i4_13438_198962_write_records_per_second.json\n",
      "i6dg8515940i42f488h927if637d56i4_13438_198963_read_records_per_second.json\n",
      "i6dg8515940i42f488h927if637d56i4_13438_198963_write_records_per_second.json\n",
      "i6dg8515940i42f488h927if637d56i4_13438_198994_read_records_per_second.json\n",
      "i6dg8515940i42f488h927if637d56i4_13438_198994_write_records_per_second.json\n",
      "i6dg8515940i42f488h927if637d56i4_13438_202091_read_records_per_second.json\n",
      "i6dg8515940i42f488h927if637d56i4_18153_161050_read_records_per_second.json\n",
      "i6dg8515940i42f488h927if637d56i4_18153_161050_write_records_per_second.json\n",
      "i6dg8515940i42f488h927if637d56i4_18153_176535_read_records_per_second.json\n",
      "i6dg8515940i42f488h927if637d56i4_18153_176535_write_records_per_second.json\n",
      "i6dg8515940i42f488h927if637d56i4_18153_186493_read_records_per_second.json\n",
      "i6dg8515940i42f488h927if637d56i4_18153_186493_write_records_per_second.json\n",
      "i6dg8515940i42f488h927if637d56i4_18153_186494_read_records_per_second.json\n",
      "i6dg8515940i42f488h927if637d56i4_18153_186494_write_records_per_second.json\n",
      "i6dg8515940i42f488h927if637d56i4_18153_195821_read_records_per_second.json\n",
      "i6dg8515940i42f488h927if637d56i4_18153_195821_write_records_per_second.json\n"
     ]
    }
   ],
   "source": [
    "for i in files1:\n",
    "    name=f\"flink_metric_data_new/\"+i\n",
    "    with open(name) as f:\n",
    "        data = json.load(f)\n",
    "    df = pd.DataFrame(data['datapoints'])\n",
    "    df.drop('unit',axis=1,inplace=True)\n",
    "    df.head()\n",
    "    learnX=df['average'][:len(df['average'])-1]\n",
    "    learnY=df['average'][1:len(df['average'])]\n",
    "    x = np.array(learnX).reshape((-1, 1))\n",
    "    y = np.array(learnY)\n",
    "    print(i)\n",
    "    modelLR2.fit(x, y)"
   ]
  },
  {
   "cell_type": "code",
   "execution_count": null,
   "metadata": {},
   "outputs": [],
   "source": []
  },
  {
   "cell_type": "code",
   "execution_count": null,
   "metadata": {},
   "outputs": [],
   "source": []
  },
  {
   "cell_type": "code",
   "execution_count": null,
   "metadata": {},
   "outputs": [],
   "source": []
  }
 ],
 "metadata": {
  "kernelspec": {
   "display_name": "Python 3",
   "language": "python",
   "name": "python3"
  },
  "language_info": {
   "codemirror_mode": {
    "name": "ipython",
    "version": 3
   },
   "file_extension": ".py",
   "mimetype": "text/x-python",
   "name": "python",
   "nbconvert_exporter": "python",
   "pygments_lexer": "ipython3",
   "version": "3.7.6"
  }
 },
 "nbformat": 4,
 "nbformat_minor": 4
}
